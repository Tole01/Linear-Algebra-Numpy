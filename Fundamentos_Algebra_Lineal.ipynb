{
  "nbformat": 4,
  "nbformat_minor": 0,
  "metadata": {
    "colab": {
      "provenance": [],
      "collapsed_sections": [
        "SQJG0b78afOk",
        "qr8jU07jbmgr",
        "8-lsM7Y8xhCC"
      ],
      "authorship_tag": "ABX9TyMEmXVEioEcOE+lXnkvkBAA",
      "include_colab_link": true
    },
    "kernelspec": {
      "name": "python3",
      "display_name": "Python 3"
    },
    "language_info": {
      "name": "python"
    }
  },
  "cells": [
    {
      "cell_type": "markdown",
      "metadata": {
        "id": "view-in-github",
        "colab_type": "text"
      },
      "source": [
        "<a href=\"https://colab.research.google.com/github/Tole01/Linear-Algebra-Numpy/blob/main/Fundamentos_Algebra_Lineal.ipynb\" target=\"_parent\"><img src=\"https://colab.research.google.com/assets/colab-badge.svg\" alt=\"Open In Colab\"/></a>"
      ]
    },
    {
      "cell_type": "markdown",
      "source": [
        "# DEFINICIONES BASICAS\n",
        "\n",
        "Escalar es un numero. En python puede ser un int, un float, un numero complejo, un str, un booleano o un NaN."
      ],
      "metadata": {
        "id": "2nnsXhAjPyMV"
      }
    },
    {
      "cell_type": "code",
      "execution_count": null,
      "metadata": {
        "colab": {
          "base_uri": "https://localhost:8080/"
        },
        "id": "Ge23eTv3OkJ8",
        "outputId": "03be0268-2783-4dc5-d9f0-5c0bace66aab"
      },
      "outputs": [
        {
          "output_type": "execute_result",
          "data": {
            "text/plain": [
              "5.678"
            ]
          },
          "metadata": {},
          "execution_count": 2
        }
      ],
      "source": [
        "escalar = 5.678\n",
        "escalar"
      ]
    },
    {
      "cell_type": "markdown",
      "source": [
        "* Un vector es un conjunto de numeros. Tiene 1 grado de libbertad(eje x)\n",
        "* La matriz es un conjunto de vectores. Tiene 2 grados de libbertad (eje x, eje y)\n",
        "* El tensor es un conjunto de matrices. Tiene n grados de libbertad (n ejes)"
      ],
      "metadata": {
        "id": "3jstC86cQOtO"
      }
    },
    {
      "cell_type": "code",
      "source": [
        "import numpy as np\n",
        "\n",
        "vector = np.array([1,2,3,4])\n",
        "\n",
        "matriz = np.array([[1,2,3],[4,5,6],[7,8,9]])\n",
        "\n",
        "tensor = np.array([\n",
        "    [[1,2,3],[4,5,6],[7,8,9]],\n",
        "    [[11,12,13],[14,15,16],[17,18,19]],\n",
        "    [[21,22,23],[24,25,26],[27,28,29]]\n",
        "                   ])\n",
        "\n",
        "print(vector,'\\n\\n',matriz,'\\n\\n',tensor)"
      ],
      "metadata": {
        "colab": {
          "base_uri": "https://localhost:8080/"
        },
        "id": "SQRLeOSDQGyr",
        "outputId": "f997dd70-d366-42b6-a719-37778aed8012"
      },
      "execution_count": null,
      "outputs": [
        {
          "output_type": "stream",
          "name": "stdout",
          "text": [
            "[1 2 3 4] \n",
            "\n",
            " [[1 2 3]\n",
            " [4 5 6]\n",
            " [7 8 9]] \n",
            "\n",
            " [[[ 1  2  3]\n",
            "  [ 4  5  6]\n",
            "  [ 7  8  9]]\n",
            "\n",
            " [[11 12 13]\n",
            "  [14 15 16]\n",
            "  [17 18 19]]\n",
            "\n",
            " [[21 22 23]\n",
            "  [24 25 26]\n",
            "  [27 28 29]]]\n"
          ]
        }
      ]
    },
    {
      "cell_type": "code",
      "source": [
        "import matplotlib.pyplot as plt\n",
        "\n",
        "# imshow es una funcion que grafica el tensor de acuerdo a ciertos colores\n",
        "plt.imshow(tensor, interpolation='nearest')"
      ],
      "metadata": {
        "colab": {
          "base_uri": "https://localhost:8080/",
          "height": 452
        },
        "id": "VRehoJoqTt9V",
        "outputId": "c693514f-9e47-4efd-f2e2-2b57659e3ced"
      },
      "execution_count": null,
      "outputs": [
        {
          "output_type": "execute_result",
          "data": {
            "text/plain": [
              "<matplotlib.image.AxesImage at 0x7fcbae56ed00>"
            ]
          },
          "metadata": {},
          "execution_count": 4
        },
        {
          "output_type": "display_data",
          "data": {
            "text/plain": [
              "<Figure size 640x480 with 1 Axes>"
            ],
            "image/png": "[encoded data removed]"
          },
          "metadata": {}
        }
      ]
    },
    {
      "cell_type": "code",
      "source": [
        "# Igualamos a los datos\n",
        "tensor[0] = 0\n",
        "tensor[1] = 128\n",
        "tensor[2] = 255\n",
        "\n",
        "# Mostramos el nuevo tensor\n",
        "plt.imshow(tensor, interpolation='nearest')"
      ],
      "metadata": {
        "colab": {
          "base_uri": "https://localhost:8080/",
          "height": 452
        },
        "id": "IKj3uzhOT_lk",
        "outputId": "c310da07-f99e-48a8-9c25-f4ed5cf2b8ae"
      },
      "execution_count": null,
      "outputs": [
        {
          "output_type": "execute_result",
          "data": {
            "text/plain": [
              "<matplotlib.image.AxesImage at 0x7fcbabbcaee0>"
            ]
          },
          "metadata": {},
          "execution_count": 10
        },
        {
          "output_type": "display_data",
          "data": {
            "text/plain": [
              "<Figure size 640x480 with 1 Axes>"
            ],
            "image/png": "[encoded data removed]"
          },
          "metadata": {}
        }
      ]
    },
    {
      "cell_type": "markdown",
      "source": [
        "# OPERACIONES"
      ],
      "metadata": {
        "id": "iIJJ8EB5VppR"
      }
    },
    {
      "cell_type": "code",
      "source": [
        "import numpy as np\n",
        "\n",
        "escalar = 5.678\n",
        "vector = np.array([1,2,3,4])\n",
        "matriz = np.array([[1,2,3],\n",
        "                   [4,5,6],\n",
        "                   [7,8,9]])\n",
        "tensor = np.array([\n",
        "    [[1,2,3],[4,5,6],[7,8,9]],\n",
        "    [[11,12,13],[14,15,16],[17,18,19]],\n",
        "    [[21,22,23],[24,25,26],[27,28,29]]\n",
        "                   ])"
      ],
      "metadata": {
        "id": "pufLuQZaUKV-"
      },
      "execution_count": null,
      "outputs": []
    },
    {
      "cell_type": "code",
      "source": [
        "# El escalar no tiene una dimension\n",
        "try:\n",
        "  escalar.shape\n",
        "except:\n",
        "  print('El escalar no tiene una dimesion, por lo que no puede obtener un shape')"
      ],
      "metadata": {
        "colab": {
          "base_uri": "https://localhost:8080/"
        },
        "id": "bG-ctMESV3EP",
        "outputId": "5f410c9b-ce45-41da-bc71-e99d8da4a848"
      },
      "execution_count": null,
      "outputs": [
        {
          "output_type": "stream",
          "name": "stdout",
          "text": [
            "El escalar no tiene una dimesion, por lo que no puede obtener un shape\n"
          ]
        }
      ]
    },
    {
      "cell_type": "code",
      "source": [
        "vector.shape"
      ],
      "metadata": {
        "colab": {
          "base_uri": "https://localhost:8080/"
        },
        "id": "uaIfZlkiWFsF",
        "outputId": "f743218e-70ad-4ec9-b2c7-410c41d7d3d9"
      },
      "execution_count": null,
      "outputs": [
        {
          "output_type": "execute_result",
          "data": {
            "text/plain": [
              "(4,)"
            ]
          },
          "metadata": {},
          "execution_count": 13
        }
      ]
    },
    {
      "cell_type": "code",
      "source": [
        "matriz.shape"
      ],
      "metadata": {
        "colab": {
          "base_uri": "https://localhost:8080/"
        },
        "id": "UblbPfdZWIk5",
        "outputId": "735ede49-42b6-4c34-a208-e9fd3d41c029"
      },
      "execution_count": null,
      "outputs": [
        {
          "output_type": "execute_result",
          "data": {
            "text/plain": [
              "(3, 3)"
            ]
          },
          "metadata": {},
          "execution_count": 14
        }
      ]
    },
    {
      "cell_type": "markdown",
      "source": [
        "El tensor es muy util para representar matrices en una serie de tiempo. Ya que, la 1ra matriz es una imagen, la 2da es otra y la 3ra es otra. Esto hace que funcione el video."
      ],
      "metadata": {
        "id": "XpKmQvi6WppC"
      }
    },
    {
      "cell_type": "code",
      "source": [
        "# El tensor muestra 3 filas, 3 columnas y 3 matrices\n",
        "print(tensor.shape, tensor.size)"
      ],
      "metadata": {
        "colab": {
          "base_uri": "https://localhost:8080/"
        },
        "id": "dQ14KqLCWLi3",
        "outputId": "d048466d-4e7e-4823-f946-5bef6cce6852"
      },
      "execution_count": null,
      "outputs": [
        {
          "output_type": "stream",
          "name": "stdout",
          "text": [
            "(3, 3, 3) 27\n"
          ]
        }
      ]
    },
    {
      "cell_type": "markdown",
      "source": [
        "## Transpocision"
      ],
      "metadata": {
        "id": "1kvbTjU8XBS2"
      }
    },
    {
      "cell_type": "code",
      "source": [
        "escalar = 5.678\n",
        "vector = np.array([1,2,3,4])\n",
        "matriz = np.array([[1,2],\n",
        "                   [4,5],\n",
        "                   [7,8]])\n",
        "tensor = np.array([\n",
        "    [[0,1,2,3],[0,4,5,6],[1,7,8,9]],\n",
        "    [[0,11,12,13],[0,14,15,16],[1,17,18,19]],\n",
        "    [[0,21,22,23],[0,24,25,26],[1,27,28,29]]\n",
        "                   ])"
      ],
      "metadata": {
        "id": "My58rPMfWNNE"
      },
      "execution_count": null,
      "outputs": []
    },
    {
      "cell_type": "code",
      "source": [
        "try:\n",
        "  escalar.T\n",
        "except:\n",
        "  print('El escalar no tiene transpuesta, es solo un numero')"
      ],
      "metadata": {
        "colab": {
          "base_uri": "https://localhost:8080/"
        },
        "id": "6f6x2GMTXHJG",
        "outputId": "cbf129a3-fd6d-4558-9989-fe2a70364ce6"
      },
      "execution_count": null,
      "outputs": [
        {
          "output_type": "stream",
          "name": "stdout",
          "text": [
            "El escalar no tiene transpuesta, es solo un numero\n"
          ]
        }
      ]
    },
    {
      "cell_type": "code",
      "source": [
        "# En python, la Transpuesta no afecta al vector. Solo a traves de un rearrange.\n",
        "print(vector.T,'\\n\\n', vector.T.shape)"
      ],
      "metadata": {
        "colab": {
          "base_uri": "https://localhost:8080/"
        },
        "id": "1P7AYUblXSgH",
        "outputId": "838de03f-558c-4204-95e9-2dcdd54d4699"
      },
      "execution_count": null,
      "outputs": [
        {
          "output_type": "stream",
          "name": "stdout",
          "text": [
            "[1 2 3 4] \n",
            "\n",
            " (4,)\n"
          ]
        }
      ]
    },
    {
      "cell_type": "code",
      "source": [
        "print(matriz.T,'\\n\\n', matriz.T.shape)"
      ],
      "metadata": {
        "colab": {
          "base_uri": "https://localhost:8080/"
        },
        "id": "7PaE0pNcXYr5",
        "outputId": "0fc1f4c3-14ec-438d-b9e6-20c2832fb278"
      },
      "execution_count": null,
      "outputs": [
        {
          "output_type": "stream",
          "name": "stdout",
          "text": [
            "[[1 4 7]\n",
            " [2 5 8]] \n",
            "\n",
            " (2, 3)\n"
          ]
        }
      ]
    },
    {
      "cell_type": "code",
      "source": [
        "print('Valores del tensor original','\\n\\n',tensor,'\\n\\n', tensor.shape)\n",
        "print('Valores de la transpuesta de un tensor','\\n\\n',tensor.T,'\\n\\n', tensor.T.shape)"
      ],
      "metadata": {
        "colab": {
          "base_uri": "https://localhost:8080/"
        },
        "id": "kAN56m7hYZGa",
        "outputId": "02866752-9f2f-4379-cfbf-276e4277b7e4"
      },
      "execution_count": null,
      "outputs": [
        {
          "output_type": "stream",
          "name": "stdout",
          "text": [
            "Valores del tensor original \n",
            "\n",
            " [[[ 0  1  2  3]\n",
            "  [ 0  4  5  6]\n",
            "  [ 1  7  8  9]]\n",
            "\n",
            " [[ 0 11 12 13]\n",
            "  [ 0 14 15 16]\n",
            "  [ 1 17 18 19]]\n",
            "\n",
            " [[ 0 21 22 23]\n",
            "  [ 0 24 25 26]\n",
            "  [ 1 27 28 29]]] \n",
            "\n",
            " (3, 3, 4)\n",
            "Valores de la transpuesta de un tensor \n",
            "\n",
            " [[[ 0  0  0]\n",
            "  [ 0  0  0]\n",
            "  [ 1  1  1]]\n",
            "\n",
            " [[ 1 11 21]\n",
            "  [ 4 14 24]\n",
            "  [ 7 17 27]]\n",
            "\n",
            " [[ 2 12 22]\n",
            "  [ 5 15 25]\n",
            "  [ 8 18 28]]\n",
            "\n",
            " [[ 3 13 23]\n",
            "  [ 6 16 26]\n",
            "  [ 9 19 29]]] \n",
            "\n",
            " (4, 3, 3)\n"
          ]
        }
      ]
    },
    {
      "cell_type": "markdown",
      "source": [
        "## Suma de matrices con mismas dimensiones\n",
        "\n",
        "Nosotros podemos sumar 1 matriz con su matriz transpuesta siempre y cuando tengan la misma dimension."
      ],
      "metadata": {
        "id": "SQJG0b78afOk"
      }
    },
    {
      "cell_type": "code",
      "source": [
        "matriz = np.array([[1,2,3],\n",
        "                   [4,5,6],\n",
        "                   [7,8,9]])\n",
        "\n",
        "A = matriz\n",
        "B = matriz.T\n",
        "A + B"
      ],
      "metadata": {
        "colab": {
          "base_uri": "https://localhost:8080/"
        },
        "id": "jTB0rA27Y_dN",
        "outputId": "61fd7699-3abc-4907-9625-ce2fe1f9637f"
      },
      "execution_count": null,
      "outputs": [
        {
          "output_type": "execute_result",
          "data": {
            "text/plain": [
              "array([[ 2,  6, 10],\n",
              "       [ 6, 10, 14],\n",
              "       [10, 14, 18]])"
            ]
          },
          "metadata": {},
          "execution_count": 38
        }
      ]
    },
    {
      "cell_type": "markdown",
      "source": [
        "Un escalar se suma directamente en todos los valores de la matriz."
      ],
      "metadata": {
        "id": "IWm64kF1bJVv"
      }
    },
    {
      "cell_type": "code",
      "source": [
        "escalar + A"
      ],
      "metadata": {
        "colab": {
          "base_uri": "https://localhost:8080/"
        },
        "id": "zdYDCd7Car6_",
        "outputId": "9980ecbf-18f4-4468-e4f0-84db3661a0c5"
      },
      "execution_count": null,
      "outputs": [
        {
          "output_type": "execute_result",
          "data": {
            "text/plain": [
              "array([[ 6.678,  7.678,  8.678],\n",
              "       [ 9.678, 10.678, 11.678],\n",
              "       [12.678, 13.678, 14.678]])"
            ]
          },
          "metadata": {},
          "execution_count": 39
        }
      ]
    },
    {
      "cell_type": "markdown",
      "source": [
        "## Suma de matrices con diferentes dimensiones\n",
        "\n",
        "Cuando tienes una matriz con diferente numero de columnas que un vector, entonces este no puede sumarse. Pero si su transpuesta tiene el mismo numero de filas, entonces el vector se repite n veces para poder sumar las n filas disponibles en la matriz.\n"
      ],
      "metadata": {
        "id": "qr8jU07jbmgr"
      }
    },
    {
      "cell_type": "code",
      "source": [
        "vector2 = np.array([[1,2,3]])\n",
        "Matriz2= np.array([[1,2],[4,5],[7,8]])\n",
        "\n",
        "try:\n",
        "  valor_suma = Matriz2 + vector2\n",
        "  print(valor_suma)\n",
        "except:\n",
        "  print('No se puede sumar porque no tienen el mismo numero de columnas')"
      ],
      "metadata": {
        "colab": {
          "base_uri": "https://localhost:8080/"
        },
        "id": "WdFM9R9ubYZh",
        "outputId": "3574786b-fb4e-4484-bcef-15050556d783"
      },
      "execution_count": null,
      "outputs": [
        {
          "output_type": "stream",
          "name": "stdout",
          "text": [
            "No se puede sumar porque no tienen el mismo numero de columnas\n"
          ]
        }
      ]
    },
    {
      "cell_type": "code",
      "source": [
        "Matriz2.T + vector2"
      ],
      "metadata": {
        "colab": {
          "base_uri": "https://localhost:8080/"
        },
        "id": "tkPS0xgMxEJo",
        "outputId": "c9038124-89dd-4583-ce34-3847e2a21c86"
      },
      "execution_count": null,
      "outputs": [
        {
          "output_type": "execute_result",
          "data": {
            "text/plain": [
              "array([[ 2,  6, 10],\n",
              "       [ 3,  7, 11]])"
            ]
          },
          "metadata": {},
          "execution_count": 46
        }
      ]
    },
    {
      "cell_type": "markdown",
      "source": [
        "## Broadcasting\n",
        "\n",
        "Es extender el valor de un escalar a traves de un vector, con la finalidad de extender el elemento de valor dimension hasta completar el elemento d emayor dimension."
      ],
      "metadata": {
        "id": "8-lsM7Y8xhCC"
      }
    },
    {
      "cell_type": "code",
      "source": [
        "Matriz2 + 42"
      ],
      "metadata": {
        "colab": {
          "base_uri": "https://localhost:8080/"
        },
        "id": "_K-5-t4TxG-M",
        "outputId": "61c87ad4-6a88-42a6-835c-842fc4e540b7"
      },
      "execution_count": null,
      "outputs": [
        {
          "output_type": "execute_result",
          "data": {
            "text/plain": [
              "array([[43, 44],\n",
              "       [46, 47],\n",
              "       [49, 50]])"
            ]
          },
          "metadata": {},
          "execution_count": 47
        }
      ]
    },
    {
      "cell_type": "code",
      "source": [
        "# Broadcasting\n",
        "Matriz2 + np.array([[42],[42],[42]])"
      ],
      "metadata": {
        "colab": {
          "base_uri": "https://localhost:8080/"
        },
        "id": "WucH83ldx8Al",
        "outputId": "5970c80a-d50c-4c39-bd4b-714999790fde"
      },
      "execution_count": null,
      "outputs": [
        {
          "output_type": "execute_result",
          "data": {
            "text/plain": [
              "array([[43, 44],\n",
              "       [46, 47],\n",
              "       [49, 50]])"
            ]
          },
          "metadata": {},
          "execution_count": 49
        }
      ]
    },
    {
      "cell_type": "markdown",
      "source": [
        "# Producto Interno entre 1 matriz y 1 vector"
      ],
      "metadata": {
        "id": "XOnXstBxp2FG"
      }
    },
    {
      "cell_type": "code",
      "source": [
        "import numpy as np\n",
        "\n",
        "escalar = 5.678\n",
        "vector = np.array([1,2,3])\n",
        "matriz = np.array([[1,2,3],[4,5,6],[7,8,9]])\n",
        "tensor = np.array([[[1,2,3],[4,5,6],[7,8,9]],[[11,12,13],[14,15,16],[17,18,19]],[[21,22,23],[24,25,26],[27,28,29]]])"
      ],
      "metadata": {
        "id": "mIDIt4_1qdhP"
      },
      "execution_count": null,
      "outputs": []
    },
    {
      "cell_type": "markdown",
      "source": [
        "La multiplicacion de 1 vector por 1 matriz hace que cada numero del vector multiplique al numero que corresponde a su misma posicion de columna dentro de la fila de la matriz que se esta multiplicando. Su resultado es una matriz con la misma shape.\n",
        "\n",
        "La matriz debe tener el mismo numero de columnas que el vector, ya que tecnicamente es broadcasting."
      ],
      "metadata": {
        "id": "d96ht8UUre9W"
      }
    },
    {
      "cell_type": "code",
      "source": [
        "vector * matriz"
      ],
      "metadata": {
        "colab": {
          "base_uri": "https://localhost:8080/"
        },
        "id": "commm78Mrd2w",
        "outputId": "490c4ed3-4b6a-407c-9986-064b7d4aced6"
      },
      "execution_count": null,
      "outputs": [
        {
          "output_type": "execute_result",
          "data": {
            "text/plain": [
              "array([[ 1,  4,  9],\n",
              "       [ 4, 10, 18],\n",
              "       [ 7, 16, 27]])"
            ]
          },
          "metadata": {},
          "execution_count": 3
        }
      ]
    },
    {
      "cell_type": "markdown",
      "source": [
        "El producto punto o producto interno se encarga de multiplicar los numeros correspondientes al  mismo numero de columna (misma variable) y al final sumar todos los numeros.\n",
        "\n",
        "Con esta descripcion:\n",
        "* El producto punto de 2 vectores dara un escalar \n",
        "* El producto punto de 1 matriz y 1 vector dara un vector  "
      ],
      "metadata": {
        "id": "nrqWNlgEysx7"
      }
    },
    {
      "cell_type": "code",
      "source": [
        "matriz.dot(vector)"
      ],
      "metadata": {
        "colab": {
          "base_uri": "https://localhost:8080/"
        },
        "id": "GPhPJ1NYyhJx",
        "outputId": "a95404c5-11f9-4771-989d-5c5daaec7f2b"
      },
      "execution_count": null,
      "outputs": [
        {
          "output_type": "execute_result",
          "data": {
            "text/plain": [
              "array([14, 32, 50])"
            ]
          },
          "metadata": {},
          "execution_count": 4
        }
      ]
    },
    {
      "cell_type": "code",
      "source": [
        "vector.dot(matriz)"
      ],
      "metadata": {
        "colab": {
          "base_uri": "https://localhost:8080/"
        },
        "id": "4jdwFThYyzIf",
        "outputId": "94e29819-1631-45fd-bf0f-845e80c8ec75"
      },
      "execution_count": null,
      "outputs": [
        {
          "output_type": "execute_result",
          "data": {
            "text/plain": [
              "array([30, 36, 42])"
            ]
          },
          "metadata": {},
          "execution_count": 5
        }
      ]
    },
    {
      "cell_type": "code",
      "source": [
        "# El producto punto se puede hacer con .dot() o con np.dot()\n",
        "np.dot(matriz,vector)"
      ],
      "metadata": {
        "colab": {
          "base_uri": "https://localhost:8080/"
        },
        "id": "7NbfCw_C3qA6",
        "outputId": "b068e984-cb04-4dcc-e1aa-eeada219e218"
      },
      "execution_count": null,
      "outputs": [
        {
          "output_type": "execute_result",
          "data": {
            "text/plain": [
              "array([14, 32, 50])"
            ]
          },
          "metadata": {},
          "execution_count": 9
        }
      ]
    },
    {
      "cell_type": "markdown",
      "source": [
        "## Producto punto de 2 matrices\n",
        "\n",
        "Para realizar esto, la primera matriz debe tener el mismo numero de columnas que el numero de filas de la 2da matriz. Ya que se multiplica la 1ra fila de la 1ra matriz por la 1 columna de la 2da matriz para darnos 1 numero. Este paso se repite hasta que se multiplique la ultima fila de la 1ra matriz por la ultima columna de la 2da matriz."
      ],
      "metadata": {
        "id": "DrVdHUIo39-9"
      }
    },
    {
      "cell_type": "code",
      "source": [
        "matriz.dot(matriz)"
      ],
      "metadata": {
        "colab": {
          "base_uri": "https://localhost:8080/"
        },
        "id": "BbPg7AIxy28U",
        "outputId": "d4afd035-0b2d-4663-c69f-7706b178c4ae"
      },
      "execution_count": null,
      "outputs": [
        {
          "output_type": "execute_result",
          "data": {
            "text/plain": [
              "array([[ 30,  36,  42],\n",
              "       [ 66,  81,  96],\n",
              "       [102, 126, 150]])"
            ]
          },
          "metadata": {},
          "execution_count": 6
        }
      ]
    },
    {
      "cell_type": "markdown",
      "source": [
        "# Producto Cruz o Externo\n",
        "\n",
        "El producto cruz hace que 2 matrices se multipliquen de la siguiente forma:\n",
        "\n",
        "[1 2]   X  [10,20] =\n",
        "[3 4]      [30,40]\n",
        "\n",
        "[10 20 30 40]\n",
        "[20 40 60 80]\n",
        "[30 60 90 120]\n",
        "[40 80 120 160]\n",
        "\n",
        "Cada valor de la 1ra matriz multiplica a todos los valores de la 2da matriz y los coloca en 1 sola fila de la siguiente matriz."
      ],
      "metadata": {
        "id": "iirevxf41X3w"
      }
    },
    {
      "cell_type": "code",
      "source": [
        "A = np.array([[1,2],[3,4]])\n",
        "B = np.array([[10,20],[30,40],[50,60]])\n",
        "\n",
        "np.outer(A,B)"
      ],
      "metadata": {
        "colab": {
          "base_uri": "https://localhost:8080/"
        },
        "id": "eAAOz7aL2rfZ",
        "outputId": "a2fa23c5-223d-4cfd-9a98-21fd257f45a6"
      },
      "execution_count": null,
      "outputs": [
        {
          "output_type": "execute_result",
          "data": {
            "text/plain": [
              "array([[ 10,  20,  30,  40,  50,  60],\n",
              "       [ 20,  40,  60,  80, 100, 120],\n",
              "       [ 30,  60,  90, 120, 150, 180],\n",
              "       [ 40,  80, 120, 160, 200, 240]])"
            ]
          },
          "metadata": {},
          "execution_count": 8
        }
      ]
    },
    {
      "cell_type": "markdown",
      "source": [
        "# Propiedades de las Operaciones"
      ],
      "metadata": {
        "id": "gLEyXzyE_8Ux"
      }
    },
    {
      "cell_type": "code",
      "source": [
        "import numpy as np\n",
        "\n",
        "A = np.array([[2,3],[5,7],[11,13]])\n",
        "B = np.array([[1,3],[2,1]])\n",
        "C = np.array([[3,1],[4,2]])"
      ],
      "metadata": {
        "id": "fZWmqb-f0mNy"
      },
      "execution_count": null,
      "outputs": []
    },
    {
      "cell_type": "markdown",
      "source": [
        "Propiedad:\n",
        "\n",
        "* Asociativa: Ax(BxC) = (AxB)xC\n",
        "\n",
        "* Distributiva: Ax(B+C) = (AxB)+(AxC)\n",
        "\n",
        "* Asociativa: BxC = CxB"
      ],
      "metadata": {
        "id": "TpFrnQhIAFZi"
      }
    },
    {
      "cell_type": "code",
      "source": [
        "# Propiedad asociativa\n",
        "ABC = A.dot(B.dot(C))\n",
        "\n",
        "AB_C = A.dot(B).dot(C)\n",
        "\n",
        "print(ABC , '\\n\\n', AB_C)"
      ],
      "metadata": {
        "colab": {
          "base_uri": "https://localhost:8080/"
        },
        "id": "AbaBBwIfAccU",
        "outputId": "0756b51b-58ee-476e-bd64-17c80f623f1f"
      },
      "execution_count": null,
      "outputs": [
        {
          "output_type": "stream",
          "name": "stdout",
          "text": [
            "[[ 60  26]\n",
            " [145  63]\n",
            " [295 129]] \n",
            "\n",
            " [[ 60  26]\n",
            " [145  63]\n",
            " [295 129]]\n"
          ]
        }
      ]
    },
    {
      "cell_type": "code",
      "source": [
        "# Propiedad distributiva\n",
        "ABC = A.dot(B+C)\n",
        "\n",
        "AB_C = A.dot(B) + A.dot(C)\n",
        "\n",
        "print(ABC , '\\n\\n', AB_C)"
      ],
      "metadata": {
        "colab": {
          "base_uri": "https://localhost:8080/"
        },
        "id": "EZsNkCNuBYkJ",
        "outputId": "3bb3b53d-775d-4281-d461-2ce608325a3a"
      },
      "execution_count": null,
      "outputs": [
        {
          "output_type": "stream",
          "name": "stdout",
          "text": [
            "[[ 26  17]\n",
            " [ 62  41]\n",
            " [122  83]] \n",
            "\n",
            " [[ 26  17]\n",
            " [ 62  41]\n",
            " [122  83]]\n"
          ]
        }
      ]
    },
    {
      "cell_type": "code",
      "source": [
        "# Propiedad Asociativa o conmutativa. Casi nunca sucede ya que es direccional la matriz.\n",
        "BC = B.dot(C)\n",
        "\n",
        "CB = C.dot(B) \n",
        "\n",
        "print(BC , '\\n\\n', CB)"
      ],
      "metadata": {
        "colab": {
          "base_uri": "https://localhost:8080/"
        },
        "id": "FikrDUdfBsDA",
        "outputId": "a927ba14-fa65-4fa3-def4-6552cb609300"
      },
      "execution_count": null,
      "outputs": [
        {
          "output_type": "stream",
          "name": "stdout",
          "text": [
            "[[15  7]\n",
            " [10  4]] \n",
            "\n",
            " [[ 5 10]\n",
            " [ 8 14]]\n"
          ]
        }
      ]
    },
    {
      "cell_type": "markdown",
      "source": [
        "## Transpocision de producto de matrices\n",
        "\n",
        "(AB)^t = B^T * A^T"
      ],
      "metadata": {
        "id": "kUamE5pfC6Lr"
      }
    },
    {
      "cell_type": "code",
      "source": [
        "import numpy as np\n",
        "\n",
        "A = np.array([[2,3],[5,7],[11,13]])\n",
        "B = np.array([[1,3],[2,1]])"
      ],
      "metadata": {
        "id": "Wbt4aWxuCCSU"
      },
      "execution_count": null,
      "outputs": []
    },
    {
      "cell_type": "code",
      "source": [
        "AB_t = A.dot(B).T\n",
        "B_tA_t = B.T.dot(A.T)\n",
        "\n",
        "print(AB_t == B_tA_t)"
      ],
      "metadata": {
        "colab": {
          "base_uri": "https://localhost:8080/"
        },
        "id": "g-xh86WBDNSK",
        "outputId": "23ba816a-74a9-475c-8ae0-33bdce770877"
      },
      "execution_count": null,
      "outputs": [
        {
          "output_type": "stream",
          "name": "stdout",
          "text": [
            "[[ True  True  True]\n",
            " [ True  True  True]]\n"
          ]
        }
      ]
    },
    {
      "cell_type": "markdown",
      "source": [
        "# Solucion Grafica a Sistemas de Ec.  Lineales"
      ],
      "metadata": {
        "id": "XTWQbaWILpB0"
      }
    },
    {
      "cell_type": "code",
      "source": [
        "import numpy as np\n",
        "import matplotlib.pyplot as plt\n",
        "\n",
        "# Puntos en x\n",
        "x = np.arange(-5,5)\n",
        "\n",
        "# sistema de ec\n",
        "y_1 = 3*x + 5\n",
        "y_2 = 2*x + 3\n",
        "\n",
        "plt.figure()\n",
        "\n",
        "# Graficar la ec. de la recta\n",
        "plt.plot(x,y_1)\n",
        "plt.plot(x,y_2)\n",
        "\n",
        "# Graficar los ejes\n",
        "plt.grid(True)\n",
        "plt.axvline(x=0, color = 'grey')\n",
        "plt.axhline(y=0, color = 'grey')"
      ],
      "metadata": {
        "colab": {
          "base_uri": "https://localhost:8080/",
          "height": 447
        },
        "id": "HP57xBogDgCc",
        "outputId": "77ca1941-07b5-445a-9074-bdf9ba7b60ef"
      },
      "execution_count": null,
      "outputs": [
        {
          "output_type": "execute_result",
          "data": {
            "text/plain": [
              "<matplotlib.lines.Line2D at 0x7f28f2cadf70>"
            ]
          },
          "metadata": {},
          "execution_count": 21
        },
        {
          "output_type": "display_data",
          "data": {
            "text/plain": [
              "<Figure size 640x480 with 1 Axes>"
            ],
            "image/png": "[encoded data removed]"
          },
          "metadata": {}
        }
      ]
    },
    {
      "cell_type": "markdown",
      "source": [
        "El sistema  de ecuaciones se puede reescribir de la siguiente forma matricial :\n",
        "\n",
        "\n",
        "\n",
        "$\\bigl[\\begin{smallmatrix}-3 & 1\\\\ -2 & 1\\end{smallmatrix}\\bigr] \\bigl[\\begin{smallmatrix}x\\\\ y\\end{smallmatrix}\\bigr] = \\bigl[\\begin{smallmatrix}5\\\\ 3\\end{smallmatrix}\\bigr]$\n",
        "\n",
        "Podemos resolver manualmente el sistema de ec. y obtener que x = -2, y = -1\n",
        "\n"
      ],
      "metadata": {
        "id": "VPngMBemPtPs"
      }
    },
    {
      "cell_type": "code",
      "source": [
        "# hacemos la multiplicacion de los numeros, obtendremos 5 y 3\n",
        "A = np.array([[-3,1],[-2,1]])\n",
        "x = np.array([-2,-1])\n",
        "b = np.array([5,3])\n",
        "\n",
        "A.dot(x)"
      ],
      "metadata": {
        "colab": {
          "base_uri": "https://localhost:8080/"
        },
        "id": "R5A5J4d_Mwb1",
        "outputId": "e76a3350-05b2-4083-aad1-7f16e4837c27"
      },
      "execution_count": null,
      "outputs": [
        {
          "output_type": "execute_result",
          "data": {
            "text/plain": [
              "array([5, 3])"
            ]
          },
          "metadata": {},
          "execution_count": 39
        }
      ]
    },
    {
      "cell_type": "markdown",
      "source": [
        "# Matrices especiales\n",
        "\n",
        "* `Matriz identidad`: es la matriz diagonal o resuelta con puros 1. Es el elemento neutro dentro de las matrices y se describe con la funcion **`np.eye()`**. Esta matriz puede transformar un espacio vectorial.\n",
        "\n",
        "* `Matriz inversa`: es la matriz que puede \"dividir\" a otra matriz y obtienes la matriz identidad. Se describe con la funcion **`np.linalg.inv(A)`** y permite calcular la matriz inversa en matrices cuadradas. AA^-1 = I\n",
        "\n",
        "* `Matriz singular`: es la unica matriz que no puede tener inversa, dado que esta hecha de puros 1. Se genera con \n"
      ],
      "metadata": {
        "id": "hhvugE2gUvxn"
      }
    },
    {
      "cell_type": "code",
      "source": [
        "# Matriz identidad\n",
        "np.eye(4)"
      ],
      "metadata": {
        "id": "CvuqY_ZBSCw-",
        "colab": {
          "base_uri": "https://localhost:8080/"
        },
        "outputId": "f7f3c08f-8971-4ee1-add6-557aa1f7c5d3"
      },
      "execution_count": null,
      "outputs": [
        {
          "output_type": "execute_result",
          "data": {
            "text/plain": [
              "array([[1., 0., 0., 0.],\n",
              "       [0., 1., 0., 0.],\n",
              "       [0., 0., 1., 0.],\n",
              "       [0., 0., 0., 1.]])"
            ]
          },
          "metadata": {},
          "execution_count": 34
        }
      ]
    },
    {
      "cell_type": "code",
      "source": [
        "# Matriz inversa\n",
        "A = [[1,0,1],[0,1,1],[-1,1,1]]\n",
        "np.linalg.inv(A)"
      ],
      "metadata": {
        "colab": {
          "base_uri": "https://localhost:8080/"
        },
        "id": "_BlB0649VS74",
        "outputId": "ef706e33-e703-4b57-8ca6-5b93b11633ee"
      },
      "execution_count": null,
      "outputs": [
        {
          "output_type": "execute_result",
          "data": {
            "text/plain": [
              "array([[ 0.,  1., -1.],\n",
              "       [-1.,  2., -1.],\n",
              "       [ 1., -1.,  1.]])"
            ]
          },
          "metadata": {},
          "execution_count": 36
        }
      ]
    },
    {
      "cell_type": "code",
      "source": [
        "try:\n",
        "  np.linalg.inv(np.ones([3,3]))\n",
        "except:\n",
        "  print('La matriz de unos \\n\\n',np.ones([3,3]),'\\n\\n no tiene inversa')"
      ],
      "metadata": {
        "colab": {
          "base_uri": "https://localhost:8080/"
        },
        "id": "6rzhvwfSWFyp",
        "outputId": "01d4502e-bdc6-4a59-9fe6-8c9e4f01c7c6"
      },
      "execution_count": null,
      "outputs": [
        {
          "output_type": "stream",
          "name": "stdout",
          "text": [
            "La matriz de unos \n",
            "\n",
            " [[1. 1. 1.]\n",
            " [1. 1. 1.]\n",
            " [1. 1. 1.]] \n",
            "\n",
            " no tiene inversa\n"
          ]
        }
      ]
    },
    {
      "cell_type": "markdown",
      "source": [
        "# Solucion de Sistemas de Ecuaciones Lineales\n",
        "\n",
        "Estos metodos de solucion son buenos pero si el sistema tiene muchas soluciones, entonces se usan muchos recursos computacionales. Es por eso que se obtiene la solucion a traves de aproximaciones."
      ],
      "metadata": {
        "id": "HrXJW9gZang1"
      }
    },
    {
      "cell_type": "code",
      "source": [
        "import numpy as np\n",
        "\n",
        "# Esta funcion cambia como los float se observan en las matrices\n",
        "np.set_printoptions(suppress = True)\n",
        "\n",
        "# Definimos matriz A y b para calcular x\n",
        "A = np.array([[-3,1],[-2,1]])\n",
        "b = np.array([5,3])"
      ],
      "metadata": {
        "id": "3505Vq-DZBLg"
      },
      "execution_count": null,
      "outputs": []
    },
    {
      "cell_type": "code",
      "source": [
        "# Para hallar la solucion al problema hacemos A^-1 producto punto b\n",
        "x = np.linalg.inv(A).dot(b)\n",
        "x"
      ],
      "metadata": {
        "colab": {
          "base_uri": "https://localhost:8080/"
        },
        "id": "ntVFPCIVRVK1",
        "outputId": "0390ea43-be5f-4ee4-d248-709eeae50f7b"
      },
      "execution_count": null,
      "outputs": [
        {
          "output_type": "execute_result",
          "data": {
            "text/plain": [
              "array([-2., -1.])"
            ]
          },
          "metadata": {},
          "execution_count": 54
        }
      ]
    },
    {
      "cell_type": "code",
      "source": [
        "# Demostracion de que es correcta\n",
        "A.dot(x)"
      ],
      "metadata": {
        "colab": {
          "base_uri": "https://localhost:8080/"
        },
        "id": "svw6nS_Cb7nC",
        "outputId": "89cb0724-2371-4d37-b264-263a32fbf249"
      },
      "execution_count": null,
      "outputs": [
        {
          "output_type": "execute_result",
          "data": {
            "text/plain": [
              "array([5., 3.])"
            ]
          },
          "metadata": {},
          "execution_count": 56
        }
      ]
    },
    {
      "cell_type": "markdown",
      "source": [
        "# Sistemas sin solucion, con solucion y con soluciones infinitas\n",
        "\n",
        "*  `Sistema sobredeterminado`: hay mas ecuaciones que variables, entonces el sistema no tendra solucion, ya que no habra un punto de interseccion para todas las ecuaciones.\n",
        "\n",
        "*  `Sistema determinado`: hay mismo numero de ecuaciones que de variables. Solo tienen 1 posible solucion.\n",
        "\n",
        "*  `Sistema con indeterminado`: solo es 1 ecuacion con 1 variable, entonces el sistema tendra soluciones infinitas dado que hay n puntos de interseccion para todas la ecuacion."
      ],
      "metadata": {
        "id": "i65Duq0YuEb7"
      }
    },
    {
      "cell_type": "code",
      "source": [
        "import numpy as np\n",
        "import matplotlib.pyplot as plt"
      ],
      "metadata": {
        "id": "ZGJNePvOv6vo"
      },
      "execution_count": null,
      "outputs": []
    },
    {
      "cell_type": "code",
      "source": [
        "# Puntos en x para el sistema SOBREDETERMINADO\n",
        "x = np.arange(-5,5)\n",
        "\n",
        "# sistema de ec\n",
        "y_1 = 3*x + 5\n",
        "y_2 = -1*x + 3\n",
        "y_3 = 2*x + 1\n",
        "\n",
        "plt.figure()\n",
        "\n",
        "# Graficar la ec. de la recta\n",
        "plt.plot(x,y_1)\n",
        "plt.plot(x,y_2)\n",
        "plt.plot(x,y_3)\n",
        "\n",
        "# Graficar los ejes\n",
        "plt.grid(True)\n",
        "plt.axvline(x=0, color = 'grey')\n",
        "plt.axhline(y=0, color = 'grey')"
      ],
      "metadata": {
        "id": "QQJpeovXcEiI",
        "colab": {
          "base_uri": "https://localhost:8080/",
          "height": 447
        },
        "outputId": "c268b900-1895-4e9d-d4fb-13c3bd5b43e2"
      },
      "execution_count": null,
      "outputs": [
        {
          "output_type": "execute_result",
          "data": {
            "text/plain": [
              "<matplotlib.lines.Line2D at 0x7f5651ef1730>"
            ]
          },
          "metadata": {},
          "execution_count": 2
        },
        {
          "output_type": "display_data",
          "data": {
            "text/plain": [
              "<Figure size 640x480 with 1 Axes>"
            ],
            "image/png": "[encoded data removed]"
          },
          "metadata": {}
        }
      ]
    },
    {
      "cell_type": "code",
      "source": [
        "# Puntos en x para el sistema con SOLUCION UNICA\n",
        "x = np.arange(-5,5)\n",
        "\n",
        "# Crea figura\n",
        "plt.figure()\n",
        "\n",
        "# Graficar la ec. de la recta\n",
        "plt.plot(x,y_2)\n",
        "plt.plot(x,y_3)\n",
        "\n",
        "# Graficar los ejes\n",
        "plt.grid(True)\n",
        "plt.axvline(x=0, color = 'grey')\n",
        "plt.axhline(y=0, color = 'grey')\n",
        "\n",
        "plt.show()"
      ],
      "metadata": {
        "colab": {
          "base_uri": "https://localhost:8080/",
          "height": 430
        },
        "id": "XWowj4fPu1FW",
        "outputId": "9d66227b-2348-403b-a084-792562560306"
      },
      "execution_count": null,
      "outputs": [
        {
          "output_type": "display_data",
          "data": {
            "text/plain": [
              "<Figure size 640x480 with 1 Axes>"
            ],
            "image/png": "[encoded data removed]"
          },
          "metadata": {}
        }
      ]
    },
    {
      "cell_type": "code",
      "source": [
        "# Puntos en x para el sistema con SOLUCIONES INFINITAS\n",
        "x = np.arange(-5,5)\n",
        "\n",
        "# Crea figura\n",
        "plt.figure()\n",
        "\n",
        "# Graficar la ec. de la recta\n",
        "plt.plot(x,y_3)\n",
        "\n",
        "# Graficar los ejes\n",
        "plt.grid(True)\n",
        "plt.axvline(x=0, color = 'grey')\n",
        "plt.axhline(y=0, color = 'grey')\n",
        "\n",
        "plt.show()"
      ],
      "metadata": {
        "colab": {
          "base_uri": "https://localhost:8080/",
          "height": 430
        },
        "id": "LojWObbww-YK",
        "outputId": "57e714c2-cfbc-429c-e5f2-9eaa63d42fd6"
      },
      "execution_count": null,
      "outputs": [
        {
          "output_type": "display_data",
          "data": {
            "text/plain": [
              "<Figure size 640x480 with 1 Axes>"
            ],
            "image/png": "[encoded data removed]"
          },
          "metadata": {}
        }
      ]
    },
    {
      "cell_type": "markdown",
      "source": [
        "# Graficacion de vectores"
      ],
      "metadata": {
        "id": "__UwJiDPTxWf"
      }
    },
    {
      "cell_type": "code",
      "source": [
        "import numpy as np\n",
        "import matplotlib.pyplot as plt"
      ],
      "metadata": {
        "id": "UThbYfYjxqQz"
      },
      "execution_count": null,
      "outputs": []
    },
    {
      "cell_type": "code",
      "source": [
        "# Graficacion de vectores\n",
        "def graficarVectores(vecs, cols, alpha = 1):\n",
        "  \n",
        "  # Defines la figura\n",
        "  plt.figure()\n",
        "\n",
        "  # Coloreas los ejes\n",
        "  plt.axvline(x = 0, color= 'grey', zorder = 0)\n",
        "  plt.axhline(y = 0, color= 'grey', zorder = 0)\n",
        "\n",
        "  # Iterador para cada punto del vector\n",
        "  for i in range(len(vecs)):\n",
        "\n",
        "    # Concatena los puntos de cada vector con el origen (0,0).  Esto genera un arreglo con 4 columnas\n",
        "    x = np.concatenate([[0,0], vecs[i]])\n",
        "    print(x)\n",
        "\n",
        "    # Graficar el vector. Requiere todos los puntos, el angulo, las unidades de la escala, la escala, cuantos vectores se van a colorear y el alpha\n",
        "    plt.quiver(x[0],x[1],x[2],x[3], angles = 'xy', scale_units = 'xy', \n",
        "               scale = 1, color = cols[i], alpha = alpha)\n",
        "\n",
        "# Definir las coordenadas de los vectores\n",
        "v1 = np.array([2,5])\n",
        "v2 = np.array([3,2]) \n",
        "\n",
        "# Grafica vectores con otros limites\n",
        "graficarVectores([v1,v2], cols = ['orange', 'blue'],)\n",
        "plt.xlim(-1,3)\n",
        "plt.ylim(-1,5)"
      ],
      "metadata": {
        "colab": {
          "base_uri": "https://localhost:8080/",
          "height": 487
        },
        "id": "KwVd8w_2VIpE",
        "outputId": "78c6ceee-1c45-4875-9b3f-ceea21b784f3"
      },
      "execution_count": null,
      "outputs": [
        {
          "output_type": "stream",
          "name": "stdout",
          "text": [
            "[0 0 2 5]\n",
            "[0 0 3 2]\n"
          ]
        },
        {
          "output_type": "execute_result",
          "data": {
            "text/plain": [
              "(-1.0, 5.0)"
            ]
          },
          "metadata": {},
          "execution_count": 9
        },
        {
          "output_type": "display_data",
          "data": {
            "text/plain": [
              "<Figure size 640x480 with 1 Axes>"
            ],
            "image/png": "[encoded data removed]"
          },
          "metadata": {}
        }
      ]
    },
    {
      "cell_type": "markdown",
      "source": [
        "Puedes crear un directorio en Jupyter llamado funciones_auxiliares que conntenga al archivo graficarVectores.ipynb. Con esto, tu puedes llamar al programa a traves de:\n",
        "\n",
        "```\n",
        "%run '..\\\\funciones_auxiliares\\graficarVectores.ipynb'\n",
        "```\n",
        "\n",
        "para usarlo dentro de otro archivo.\n",
        "\n"
      ],
      "metadata": {
        "id": "8KC-3oPTaSQ-"
      }
    },
    {
      "cell_type": "markdown",
      "source": [
        "# Combinacion Lineal\n",
        "\n",
        "La combinacion lineal es una ecuacion que escribe la suma de 2 o mas vectores como uno solo. Estos se escriben como:\n",
        "\n",
        "$V = a_{1}v_{1} + a_{2}v_{2}$\n"
      ],
      "metadata": {
        "id": "mPr7Jm_2bRpQ"
      }
    },
    {
      "cell_type": "code",
      "source": [
        "import numpy as np\n",
        "import matplotlib.pyplot as plt"
      ],
      "metadata": {
        "id": "9L6GSO8abLO2"
      },
      "execution_count": null,
      "outputs": []
    },
    {
      "cell_type": "code",
      "source": [
        "# Graficacion de vectores\n",
        "def graficarVectores(vecs, cols, alpha = 1):\n",
        "  \n",
        "  # Defines la figura\n",
        "  plt.figure()\n",
        "\n",
        "  # Coloreas los ejes\n",
        "  plt.axvline(x = 0, color= 'grey', zorder = 0)\n",
        "  plt.axhline(y = 0, color= 'grey', zorder = 0)\n",
        "\n",
        "  # Iterador para cada punto del vector\n",
        "  for i in range(len(vecs)):\n",
        "\n",
        "    # Concatena los puntos de cada vector con el origen (0,0).  Esto genera un arreglo con 4 columnas\n",
        "    x = np.concatenate([[0,0], vecs[i]])\n",
        "    print(x)\n",
        "\n",
        "    # Graficar el vector. Requiere todos los puntos, el angulo, las unidades de la escala, la escala, cuantos vectores se van a colorear y el alpha\n",
        "    plt.quiver(x[0],x[1],x[2],x[3], angles = 'xy', scale_units = 'xy', \n",
        "               scale = 1, color = cols[i], alpha = alpha)\n",
        "    \n",
        "# Definir las coordenadas de los vectores\n",
        "v1 = np.array([2,5])\n",
        "v2 = np.array([3,2]) \n",
        "\n",
        "# Crear la combinacion lineal de ambos vectores\n",
        "v1v2 = 2*v1 + 3*v2\n",
        "print(v1v2)\n",
        "\n",
        "# Grafica vectores con otros limites\n",
        "graficarVectores([v1,v2, v1v2], cols = ['orange', 'blue','red'])\n",
        "plt.xlim(-1,20)\n",
        "plt.ylim(-1,20)"
      ],
      "metadata": {
        "colab": {
          "base_uri": "https://localhost:8080/",
          "height": 522
        },
        "id": "nPsWKaoNYr-p",
        "outputId": "98b9e5c7-41a9-4680-9a11-76ed6546803f"
      },
      "execution_count": null,
      "outputs": [
        {
          "output_type": "stream",
          "name": "stdout",
          "text": [
            "[13 16]\n",
            "[0 0 2 5]\n",
            "[0 0 3 2]\n",
            "[ 0  0 13 16]\n"
          ]
        },
        {
          "output_type": "execute_result",
          "data": {
            "text/plain": [
              "(-1.0, 20.0)"
            ]
          },
          "metadata": {},
          "execution_count": 2
        },
        {
          "output_type": "display_data",
          "data": {
            "text/plain": [
              "<Figure size 640x480 with 1 Axes>"
            ],
            "image/png": "[encoded data removed]"
          },
          "metadata": {}
        }
      ]
    },
    {
      "cell_type": "markdown",
      "source": [
        "Para graficar todas las combinaciones lineales dentro de un espacio R2, se puede  utilizar el siguiente codigo, en donde a y b representan los coeficientes que multiplican a cada vector (linealmente independientes o que no son multiplos entre si) para obtener una combinacion lineal de un espacio vectorial."
      ],
      "metadata": {
        "id": "KeAg2RaEeqoO"
      }
    },
    {
      "cell_type": "code",
      "source": [
        "# Definir las coordenadas de los vectores\n",
        "v1 = np.array([2,5])\n",
        "v2 = np.array([3,2]) \n",
        "\n",
        "for a in range(-10,10):\n",
        "  for b in range(-10,10):\n",
        "    \n",
        "    # Graficaremos la suma de los puntos en x,y para ambos vectores\n",
        "    plt.scatter(a*v1[0] + b*v2[0],a*v1[1] + b*v2[1], marker= '.', color='orange' )\n",
        "\n",
        "# Coloreas los ejes\n",
        "plt.axvline(x = 0, color= 'grey', zorder = 0)\n",
        "plt.axhline(y = 0, color= 'grey', zorder = 0)"
      ],
      "metadata": {
        "colab": {
          "base_uri": "https://localhost:8080/",
          "height": 447
        },
        "id": "ZhurdTJ-dy-0",
        "outputId": "d54f7f22-c175-4568-c49f-977a6f36e4ef"
      },
      "execution_count": null,
      "outputs": [
        {
          "output_type": "execute_result",
          "data": {
            "text/plain": [
              "<matplotlib.lines.Line2D at 0x7fc159ccb760>"
            ]
          },
          "metadata": {},
          "execution_count": 12
        },
        {
          "output_type": "display_data",
          "data": {
            "text/plain": [
              "<Figure size 640x480 with 1 Axes>"
            ],
            "image/png": "[encoded data removed]"
          },
          "metadata": {}
        }
      ]
    },
    {
      "cell_type": "markdown",
      "source": [
        "En cambio, si tenemos una base canonica, cuyos vectores son representados como:\n",
        "\n",
        "$v_{1} = \\bigl[\\begin{smallmatrix} 1\\\\ 0\\end{smallmatrix}\\bigr] , v_{2} = \\bigl[\\begin{smallmatrix}0\\\\ 1\\end{smallmatrix}\\bigr] $\n",
        "\n",
        "entonces, nuestra combinacion lineal dara una base canonica u ortogonal como la siguiente:\n"
      ],
      "metadata": {
        "id": "iHLoIqCSDJpj"
      }
    },
    {
      "cell_type": "code",
      "source": [
        "# Definir las coordenadas de los vectores\n",
        "v1 = np.array([1,0])\n",
        "v2 = np.array([0,1]) \n",
        "\n",
        "for a in range(-10,10):\n",
        "  for b in range(-10,10):\n",
        "    \n",
        "    # Graficaremos la suma de los puntos en x,y para ambos vectores\n",
        "    plt.scatter(a*v1[0] + b*v2[0],a*v1[1] + b*v2[1], marker= '.', color='blue' )\n",
        "\n",
        "# Coloreas los ejes\n",
        "plt.axvline(x = 0, color= 'grey', zorder = 0)\n",
        "plt.axhline(y = 0, color= 'grey', zorder = 0)\n",
        "\n",
        "# Establecer los limites maximos\n",
        "plt.xlim(-15,15)\n",
        "plt.ylim(-15,15)"
      ],
      "metadata": {
        "id": "6ew7QS-TfRhL",
        "colab": {
          "base_uri": "https://localhost:8080/",
          "height": 452
        },
        "outputId": "4f8c7a5b-f59c-4063-dd40-97659b915c13"
      },
      "execution_count": null,
      "outputs": [
        {
          "output_type": "execute_result",
          "data": {
            "text/plain": [
              "(-15.0, 15.0)"
            ]
          },
          "metadata": {},
          "execution_count": 10
        },
        {
          "output_type": "display_data",
          "data": {
            "text/plain": [
              "<Figure size 640x480 with 1 Axes>"
            ],
            "image/png": "[encoded data removed]"
          },
          "metadata": {}
        }
      ]
    },
    {
      "cell_type": "markdown",
      "source": [
        "# Espacios y subespacios vectoriales"
      ],
      "metadata": {
        "id": "0fUhzPvfGLFf"
      }
    },
    {
      "cell_type": "code",
      "source": [
        "import numpy as np\n",
        "import matplotlib.pyplot as plt"
      ],
      "metadata": {
        "id": "ekaCMc6REpoc"
      },
      "execution_count": null,
      "outputs": []
    },
    {
      "cell_type": "markdown",
      "source": [
        "Un espacio vectorial es el espacio donde se crean y operan los vectores, los cuales, al tener caracteristicas descritas por la combinacion lineal correspondiente, pueden generar un subespacio donde solo se sigan esas reglas. \n",
        "\n",
        "El hiperplano es una dimension menor a la que estamos trabajando. Ej: si trabajamos en R3, el hiperplano es un plano en R2. Si trabajamos en R2, el hiperplano es una recta en R1."
      ],
      "metadata": {
        "id": "A74O_blQIDG5"
      }
    },
    {
      "cell_type": "code",
      "source": [
        "# Definir las coordenadas de los vectores\n",
        "v1 = np.array([1,1])\n",
        "v2 = np.array([-1,-1]) \n",
        "\n",
        "for a in range(-10,10):\n",
        "  for b in range(-10,10):\n",
        "    \n",
        "    # Graficaremos la suma de los puntos en x,y para ambos vectores\n",
        "    plt.scatter(a*v1[0] + b*v2[0],a*v1[1] + b*v2[1], marker= '.', color='blue' )\n",
        "\n",
        "# Coloreas los ejes\n",
        "plt.axvline(x = 0, color= 'grey', zorder = 0)\n",
        "plt.axhline(y = 0, color= 'grey', zorder = 0)"
      ],
      "metadata": {
        "colab": {
          "base_uri": "https://localhost:8080/",
          "height": 447
        },
        "id": "Bp5KsYSBGsXY",
        "outputId": "5768ce2e-dc7a-4dd2-89dd-ad0eea422e09"
      },
      "execution_count": null,
      "outputs": [
        {
          "output_type": "execute_result",
          "data": {
            "text/plain": [
              "<matplotlib.lines.Line2D at 0x7fc1596bcfd0>"
            ]
          },
          "metadata": {},
          "execution_count": 15
        },
        {
          "output_type": "display_data",
          "data": {
            "text/plain": [
              "<Figure size 640x480 with 1 Axes>"
            ],
            "image/png": "[encoded data removed]"
          },
          "metadata": {}
        }
      ]
    },
    {
      "cell_type": "code",
      "source": [
        "# Definir las coordenadas de los vectores\n",
        "v1 = np.array([1,0])\n",
        "v2 = np.array([2,-3]) \n",
        "\n",
        "for a in range(-10,10):\n",
        "  for b in range(-10,10):\n",
        "    \n",
        "    # Graficaremos la suma de los puntos en x,y para ambos vectores\n",
        "    plt.scatter(a*v1[0] + b*v2[0],a*v1[1] + b*v2[1], marker= '.', color='blue' )\n",
        "\n",
        "# Coloreas los ejes\n",
        "plt.axvline(x = 0, color= 'grey', zorder = 0)\n",
        "plt.axhline(y = 0, color= 'grey', zorder = 0)"
      ],
      "metadata": {
        "colab": {
          "base_uri": "https://localhost:8080/",
          "height": 447
        },
        "id": "9pQagr54G2Hv",
        "outputId": "d835585c-79f2-4374-8075-72b1b82014ef"
      },
      "execution_count": null,
      "outputs": [
        {
          "output_type": "execute_result",
          "data": {
            "text/plain": [
              "<matplotlib.lines.Line2D at 0x7fc158f83b50>"
            ]
          },
          "metadata": {},
          "execution_count": 17
        },
        {
          "output_type": "display_data",
          "data": {
            "text/plain": [
              "<Figure size 640x480 with 1 Axes>"
            ],
            "image/png": "[encoded data removed]"
          },
          "metadata": {}
        }
      ]
    },
    {
      "cell_type": "code",
      "source": [
        "import matplotlib.pyplot as plt\n",
        "from mpl_toolkits.mplot3d import Axes3D\n",
        "\n",
        "# Creamos un espacio 3D con una figura\n",
        "fig = plt.figure()\n",
        "ax = fig.add_subplot(111, projection='3d')\n",
        "\n",
        "# Definir las coordenadas de los vectores\n",
        "v1 = np.array([1,0,0])\n",
        "v2 = np.array([2,-3,0]) \n",
        "\n",
        "for a in range(-10,10):\n",
        "  for b in range(-10,10):\n",
        "    \n",
        "    # Graficaremos la suma de los puntos en x,y para ambos vectores\n",
        "    ax.scatter(a*v1[0] + b*v2[0],a*v1[1] + b*v2[1], a*v1[2] + b*v2[2] , marker= '.', color='blue' )"
      ],
      "metadata": {
        "colab": {
          "base_uri": "https://localhost:8080/",
          "height": 408
        },
        "id": "tY8PPMniMZrB",
        "outputId": "e3592b92-ad6a-48c5-b21f-d7579814212c"
      },
      "execution_count": null,
      "outputs": [
        {
          "output_type": "display_data",
          "data": {
            "text/plain": [
              "<Figure size 640x480 with 1 Axes>"
            ],
            "image/png": "[encoded data removed]"
          },
          "metadata": {}
        }
      ]
    },
    {
      "cell_type": "markdown",
      "source": [
        "Si tenemos el siguiente caso:\n",
        "\n",
        "$\\bigl[\\begin{smallmatrix}1 & 1\\\\ -1 & -1\\end{smallmatrix}\\bigr] \\bigl[\\begin{smallmatrix}x\\\\ y\\end{smallmatrix}\\bigr] = \\bigl[\\begin{smallmatrix}-10\\\\ 10\\end{smallmatrix}\\bigr]$\n",
        "\n",
        "Podemos saber que esto no sera posible, ya que la coordenada (-10,10) esta fuera del subespacio vectorial generado por la combinacion lineal de esos 2 vectores, ya que estos 2 vectores son linealmente dependientes."
      ],
      "metadata": {
        "id": "Cle5o8yjRi-K"
      }
    },
    {
      "cell_type": "markdown",
      "source": [
        "# Eigen Valores\n",
        "\n",
        "Los autovalores nos sirven para descomponer nuestra matriz y saber que valores son linealmente dependientes. Estos se calculan a traves de **`np.linalg.eig()`**. \n",
        "\n",
        "Esta funcion te devuelve una tupla con 2 arreglos. El primero son los eigen valores y el segundo es una matriz con los eigen vectores de la matriz. \n",
        "\n",
        "Cuando los eigenvalores son `$λ = 0$`, entonces quiere decir que ese vector es linealmente dependiente de otro y que la matriz no se puede resolver."
      ],
      "metadata": {
        "id": "-ofZgekuUNsz"
      }
    },
    {
      "cell_type": "code",
      "source": [
        "import numpy as np"
      ],
      "metadata": {
        "id": "1ynz5I8DOSd2"
      },
      "execution_count": null,
      "outputs": []
    },
    {
      "cell_type": "code",
      "source": [
        "A = np.array(\n",
        "    [[0,1,0,0],\n",
        "     [0,0,1,0],\n",
        "     [0,1,1,0],\n",
        "     [1,0,0,1]])\n",
        "\n",
        "# Obtencion de eagen valores y eagen vectores\n",
        "lambdas, V = np.linalg.eig(A)\n",
        "\n",
        "# eagen valores\n",
        "lambdas"
      ],
      "metadata": {
        "colab": {
          "base_uri": "https://localhost:8080/"
        },
        "id": "fwc09_NhXcSH",
        "outputId": "a833f78f-4aaf-4428-b4d7-1918af1c56ae"
      },
      "execution_count": null,
      "outputs": [
        {
          "output_type": "execute_result",
          "data": {
            "text/plain": [
              "array([ 1.        ,  0.        ,  1.61803399, -0.61803399])"
            ]
          },
          "metadata": {},
          "execution_count": 35
        }
      ]
    },
    {
      "cell_type": "code",
      "source": [
        "# eagen vectores. Cada columna es 1 eigen vector.\n",
        "V"
      ],
      "metadata": {
        "colab": {
          "base_uri": "https://localhost:8080/"
        },
        "id": "JX1dp7MCYDOB",
        "outputId": "31492fcb-7ede-4867-8d83-4eeba6cb759d"
      },
      "execution_count": null,
      "outputs": [
        {
          "output_type": "execute_result",
          "data": {
            "text/plain": [
              "array([[ 0.        ,  0.70710678,  0.2763932 , -0.7236068 ],\n",
              "       [ 0.        ,  0.        ,  0.4472136 ,  0.4472136 ],\n",
              "       [ 0.        ,  0.        ,  0.7236068 , -0.2763932 ],\n",
              "       [ 1.        , -0.70710678,  0.4472136 ,  0.4472136 ]])"
            ]
          },
          "metadata": {},
          "execution_count": 36
        }
      ]
    },
    {
      "cell_type": "code",
      "source": [
        "# Filtrar el vector que es linealmente dependiente\n",
        "A[lambdas == 0]"
      ],
      "metadata": {
        "colab": {
          "base_uri": "https://localhost:8080/"
        },
        "id": "vW2Ao2x3bkvW",
        "outputId": "0bac33d4-03ce-4af9-bff5-edfce523ee65"
      },
      "execution_count": null,
      "outputs": [
        {
          "output_type": "execute_result",
          "data": {
            "text/plain": [
              "array([[0, 0, 1, 0]])"
            ]
          },
          "metadata": {},
          "execution_count": 37
        }
      ]
    },
    {
      "cell_type": "markdown",
      "source": [
        "# Norma\n",
        "\n",
        "La norma es el tamaño de un vector y nos sirve para determinar el error de un vector en Machine Learning. Se escribe como |v| y usamos la funcion `np.linalg.norm()` para calcularla.\n",
        "\n",
        "Algunas propiedades de la norma son:\n",
        "\n",
        "* $norma(v) ≥ 0$\n",
        "* La norma del vector es 0 si el vector es igual a 0: $norma(v) = 0 | v = 0$\n",
        "* Si sumamos 2 vectores, tendremos un vector resultante v3. La norma de v3 debe ser menor o igual a la suma de las normas de ambo vectores: $norma(v_{1}) + norma(v_{2}) ≥ norma(v_{3})$\n",
        "\n",
        "* La norma del vector por 1 escalar es igual al valor absoluto del escalar por la norma del vector: $norma(av_{1}) = |a| * norma(v)$\n"
      ],
      "metadata": {
        "id": "iX84j0t3w7Gx"
      }
    },
    {
      "cell_type": "code",
      "source": [
        "import numpy as np\n",
        "import matplotlib.pyplot as plt\n",
        "import seaborn as sns"
      ],
      "metadata": {
        "id": "lbm6FwbHuw0L"
      },
      "execution_count": null,
      "outputs": []
    },
    {
      "cell_type": "code",
      "source": [
        "# Definir las coordenadas de los vectores\n",
        "v1 = np.array([2,7])\n",
        "v2 = np.array([3,5]) \n",
        "v1v2 = v1 + v2"
      ],
      "metadata": {
        "id": "LOT3sDVz0Ykz"
      },
      "execution_count": null,
      "outputs": []
    },
    {
      "cell_type": "code",
      "source": [
        "# Calculo de la norma\n",
        "np.linalg.norm(v1v2)"
      ],
      "metadata": {
        "colab": {
          "base_uri": "https://localhost:8080/"
        },
        "id": "3wxs88db0vfx",
        "outputId": "8e0ab2e5-6e73-4b78-c43e-073574eb564c"
      },
      "execution_count": null,
      "outputs": [
        {
          "output_type": "execute_result",
          "data": {
            "text/plain": [
              "13.0"
            ]
          },
          "metadata": {},
          "execution_count": 41
        }
      ]
    },
    {
      "cell_type": "markdown",
      "source": [
        "La norma del vector solo sera igual cuando un vector se traslape directamente sobre otro vector."
      ],
      "metadata": {
        "id": "uUuVcnGm2-j6"
      }
    },
    {
      "cell_type": "code",
      "source": [
        "# Definimos las normas\n",
        "norma_v1 = np.linalg.norm(v1)\n",
        "norma_v2 = np.linalg.norm(v2)\n",
        "norma_v1v2 = np.linalg.norm(v1v2)\n",
        "\n",
        "# norma(v1v2) <= norma(v1) + norma(v2)\n",
        "norma_v1v2 <= norma_v1 + norma_v2"
      ],
      "metadata": {
        "colab": {
          "base_uri": "https://localhost:8080/"
        },
        "id": "APWYRPG_0-d8",
        "outputId": "3cf7afc3-fda0-4df7-e5ba-26d3ede8f6c6"
      },
      "execution_count": null,
      "outputs": [
        {
          "output_type": "execute_result",
          "data": {
            "text/plain": [
              "True"
            ]
          },
          "metadata": {},
          "execution_count": 42
        }
      ]
    },
    {
      "cell_type": "markdown",
      "source": [
        "Para visualizar la normal, se crearan 2 vectores con 4 dimensiones. V1 y v2 (azul y nranja respectivamente) son los vectores originales, v1v2 es la suma de estos 2 vectores (rojo) y el v1_aux (verde) el cual nos ayuda a dibujar donde terminara la cantidad del vector normal."
      ],
      "metadata": {
        "id": "wQgADuBO-osJ"
      }
    },
    {
      "cell_type": "code",
      "source": [
        "# Crear vectores\n",
        "v1 = np.array([0,0,2,7])\n",
        "v2 = np.array([0,0,3,5]) \n",
        "\n",
        "# Crear vector auxiliar a partir de los otros 2 vectores. Las 2 primeras son las coordenadas de inicio y las 2 ultimas las coordenadas finales del vector a partir de las coorenadas de inicio.\n",
        "v1_aux = np.array([v1[2],v1[3],v2[2],v2[3]])\n",
        "\n",
        "# Suma de vectores\n",
        "v1v2 = v1 + v2\n",
        "\n",
        "# Graficar el vector. Requiere todos los puntos, el angulo, las unidades de la escala, la escala, cuantos vectores se van a colorear y el alpha\n",
        "plt.quiver([ v1[0], v2[0], v1_aux[0], v1v2[0]],\n",
        "           [ v1[1], v2[1], v1_aux[1], v1v2[1]],\n",
        "           [ v1[2], v2[2], v1_aux[2], v1v2[2]],\n",
        "           [ v1[3], v2[3], v1_aux[3], v1v2[3]],\n",
        "           angles = 'xy', scale_units = 'xy', scale = 1, color = sns.color_palette())\n",
        "    \n",
        "# Grafica vectores con otros limites\n",
        "plt.xlim(-1,20)\n",
        "plt.ylim(-1,20)"
      ],
      "metadata": {
        "colab": {
          "base_uri": "https://localhost:8080/",
          "height": 452
        },
        "id": "rMrPgRxj2886",
        "outputId": "1287bf10-1717-4f50-c76e-48d1b5b79ebc"
      },
      "execution_count": null,
      "outputs": [
        {
          "output_type": "execute_result",
          "data": {
            "text/plain": [
              "(-1.0, 20.0)"
            ]
          },
          "metadata": {},
          "execution_count": 51
        },
        {
          "output_type": "display_data",
          "data": {
            "text/plain": [
              "<Figure size 640x480 with 1 Axes>"
            ],
            "image/png": "[encoded data removed]"
          },
          "metadata": {}
        }
      ]
    },
    {
      "cell_type": "markdown",
      "source": [
        "# Tipos de Normas\n",
        "\n",
        "Las normas se usan para determinar el modulo de regularización en la construcción de un modelo. La regularización se usa para castigar la complejidad de un modelo y evitar overfitting, las más comunes son L2 para simplicidad y L1 para esparcidad. \n",
        "\n",
        "A las normas se les va a llamar por la letra L y hay distintos tipos de normas:\n",
        "\n",
        "* $L_{0}$: nos devuelve la cantidad de elementos que contiene nuestro vector que son distintos de 0:\n",
        "$numero \\   total \\ de \\  v_{i} \\not= 0 $\n",
        "\n",
        "* $L_{1}$: nos devolvera la suma del valor absoluto de todos los componenetes de nuestro vector:\n",
        "$∑_{i}^{n} \\big| v_{i} \\big| $\n",
        "\n",
        "* $L_{2}$: distancia euclidiana. Cuanto mide el vector desde su origen.\n",
        "* $L_{2}^{2}$: podriamos calcular la normal del vector a partir del producto punto del mismo vector contra si mismo. Esto tiene muchas ventajas computacionales, ya que representamos todo como una matriz, calculamos el producto punto y la norma al mismo tiempo de muchisismos vectores: **x.dot($x^{2}$)**\n",
        "\n",
        "* $L_{∞}$: es el valor maximo obtenido a partir de pasar todos los valores a traves del valor absoluto.\n",
        "$max_{i}(| v_{i} |) $\n"
      ],
      "metadata": {
        "id": "HCxm5TYlE4G6"
      }
    },
    {
      "cell_type": "code",
      "source": [
        "import numpy as np\n",
        "\n",
        "vector = np.random.randint(-10,200, 50)\n",
        "vector"
      ],
      "metadata": {
        "colab": {
          "base_uri": "https://localhost:8080/"
        },
        "id": "J-mkl4r-C05N",
        "outputId": "26101d4f-fcda-4b1b-9183-f5f589489995"
      },
      "execution_count": null,
      "outputs": [
        {
          "output_type": "execute_result",
          "data": {
            "text/plain": [
              "array([104,  65, 185,  47, 156,  27,   0, 137, 147,  27, 194,  57, 131,\n",
              "       194, 117, 176,  56,  89, 144, 111,  74,  53,  58,  38, 171,  71,\n",
              "       160, 161, 112, 195,  59,  68,  49, 128, 124, 123,  59, 185,  14,\n",
              "        34,  84,   2,  14,  44,  69, 184,  89,  94, 130,  -8])"
            ]
          },
          "metadata": {},
          "execution_count": 55
        }
      ]
    },
    {
      "cell_type": "code",
      "source": [
        "# Calcular L0 solo con ord=0\n",
        "np.linalg.norm(vector, ord=0)"
      ],
      "metadata": {
        "colab": {
          "base_uri": "https://localhost:8080/"
        },
        "id": "wc67iiJSQW0C",
        "outputId": "16226d32-0f81-4ef6-e40b-36cf5ed51879"
      },
      "execution_count": null,
      "outputs": [
        {
          "output_type": "execute_result",
          "data": {
            "text/plain": [
              "49.0"
            ]
          },
          "metadata": {},
          "execution_count": 56
        }
      ]
    },
    {
      "cell_type": "code",
      "source": [
        "# Calcular L1 para la longitud del vector con ord=1\n",
        "np.linalg.norm(vector, ord=1)"
      ],
      "metadata": {
        "colab": {
          "base_uri": "https://localhost:8080/"
        },
        "id": "-ZP1suVeQdWk",
        "outputId": "fbc7c90d-87be-46a7-b42f-326e3e457d93"
      },
      "execution_count": null,
      "outputs": [
        {
          "output_type": "execute_result",
          "data": {
            "text/plain": [
              "4818.0"
            ]
          },
          "metadata": {},
          "execution_count": 57
        }
      ]
    },
    {
      "cell_type": "code",
      "source": [
        "# Calcular L2 para la distancia euclidiana con ord=2 en espacios de R2 y R3\n",
        "np.linalg.norm(vector, ord=2)"
      ],
      "metadata": {
        "colab": {
          "base_uri": "https://localhost:8080/"
        },
        "id": "gvuvK8slQur0",
        "outputId": "f31169e9-0c94-4641-b51f-466b83604f26"
      },
      "execution_count": null,
      "outputs": [
        {
          "output_type": "execute_result",
          "data": {
            "text/plain": [
              "793.4456503126096"
            ]
          },
          "metadata": {},
          "execution_count": 58
        }
      ]
    },
    {
      "cell_type": "code",
      "source": [
        "# Calcular L2 para n dimensiones con ord=2 al cuadrado\n",
        "np.linalg.norm(vector, ord=2)**2"
      ],
      "metadata": {
        "colab": {
          "base_uri": "https://localhost:8080/"
        },
        "id": "L5RQP6gLQ5zt",
        "outputId": "0e593031-01a3-494e-ce0b-b6c715e94904"
      },
      "execution_count": null,
      "outputs": [
        {
          "output_type": "execute_result",
          "data": {
            "text/plain": [
              "629555.9999999999"
            ]
          },
          "metadata": {},
          "execution_count": 59
        }
      ]
    },
    {
      "cell_type": "code",
      "source": [
        "# Calcular L2^2 a traves del producto punto del vector.T sobre el vector original(se usa el Transpuesto para matchear las dimensiones)\n",
        "vector.T.dot(vector)"
      ],
      "metadata": {
        "colab": {
          "base_uri": "https://localhost:8080/"
        },
        "id": "V7pPqDEwRUAB",
        "outputId": "78bbd088-1493-418b-8082-e3e1c51b6e8f"
      },
      "execution_count": null,
      "outputs": [
        {
          "output_type": "execute_result",
          "data": {
            "text/plain": [
              "629556"
            ]
          },
          "metadata": {},
          "execution_count": 61
        }
      ]
    },
    {
      "cell_type": "code",
      "source": [
        "# Calcular la norma infinita a traves de ord=np.inf\n",
        "np.linalg.norm(vector, ord=np.inf)"
      ],
      "metadata": {
        "colab": {
          "base_uri": "https://localhost:8080/"
        },
        "id": "QgVWSOI1S2jw",
        "outputId": "26752c01-5d46-4e24-c6f4-8b1162a18962"
      },
      "execution_count": null,
      "outputs": [
        {
          "output_type": "execute_result",
          "data": {
            "text/plain": [
              "195.0"
            ]
          },
          "metadata": {},
          "execution_count": 62
        }
      ]
    },
    {
      "cell_type": "markdown",
      "source": [
        "#  Expresion del producto punto a traves de la norma de 2 vectores con su angulo\n",
        "\n",
        "Con esto, podemos escribir que:\n",
        "\n",
        "$ v_{1T} * v_{2} = L_{2}(v_{1}) \\ L_{2}(v_{2}) cos(θ) $\n",
        "\n",
        "$ v_{1T} * v_{2} = |v_{1}| |v_{2}| cos(θ) $"
      ],
      "metadata": {
        "id": "etmYE9LkU8Nl"
      }
    },
    {
      "cell_type": "code",
      "source": [
        "import numpy as np\n",
        "import matplotlib.pyplot as plt\n",
        "import seaborn as sns"
      ],
      "metadata": {
        "id": "idU4m08JTY63"
      },
      "execution_count": null,
      "outputs": []
    },
    {
      "cell_type": "code",
      "source": [
        "v1 = np.array([0,0,0,3])\n",
        "v2 = np.array([0,0,3,3]) \n",
        "\n",
        "# Graficar el vectores\n",
        "plt.quiver([ v1[0], v2[0] ],\n",
        "           [ v1[1], v2[1] ],\n",
        "           [ v1[2], v2[2] ],\n",
        "           [ v1[3], v2[3] ],\n",
        "           angles = 'xy', scale_units = 'xy', scale = 1, color = sns.color_palette())\n",
        "\n",
        "# Coloreas los ejes\n",
        "plt.axvline(x = 0, color= 'grey', zorder = 0)\n",
        "plt.axhline(y = 0, color= 'grey', zorder = 0)\n",
        "\n",
        "# Grafica vectores con otros limites\n",
        "plt.xlim(-4,4)\n",
        "plt.ylim(-4,4)"
      ],
      "metadata": {
        "colab": {
          "base_uri": "https://localhost:8080/",
          "height": 452
        },
        "id": "zPfFYzySWXL5",
        "outputId": "f67b2aeb-b353-4e7f-9919-ef9f760ae5e5"
      },
      "execution_count": null,
      "outputs": [
        {
          "output_type": "execute_result",
          "data": {
            "text/plain": [
              "(-4.0, 4.0)"
            ]
          },
          "metadata": {},
          "execution_count": 67
        },
        {
          "output_type": "display_data",
          "data": {
            "text/plain": [
              "<Figure size 640x480 with 1 Axes>"
            ],
            "image/png": "[encoded data removed]"
          },
          "metadata": {}
        }
      ]
    },
    {
      "cell_type": "code",
      "source": [
        "v1.T.dot(v2)"
      ],
      "metadata": {
        "colab": {
          "base_uri": "https://localhost:8080/"
        },
        "id": "Nic95UgVYiWi",
        "outputId": "fafbf2f0-48f3-4a27-e681-74af3551fcb9"
      },
      "execution_count": null,
      "outputs": [
        {
          "output_type": "execute_result",
          "data": {
            "text/plain": [
              "9"
            ]
          },
          "metadata": {},
          "execution_count": 70
        }
      ]
    },
    {
      "cell_type": "code",
      "source": [
        "# Obtenemos las normas de ambos vectores\n",
        "norma_v1 = np.linalg.norm(v1)\n",
        "norma_v2 = np.linalg.norm(v2)\n",
        "\n",
        "# Obtenemos el producto punto a traves de un angulo de 45° transformados en radianes\n",
        "norma_v1 * norma_v2 * np.cos(np.deg2rad(45))"
      ],
      "metadata": {
        "colab": {
          "base_uri": "https://localhost:8080/"
        },
        "id": "Rbdy-Vt_WyuH",
        "outputId": "536f8bdf-f601-4392-c886-5ba666b9c1a5"
      },
      "execution_count": null,
      "outputs": [
        {
          "output_type": "execute_result",
          "data": {
            "text/plain": [
              "9.0"
            ]
          },
          "metadata": {},
          "execution_count": 68
        }
      ]
    },
    {
      "cell_type": "markdown",
      "source": [
        "Si el coseno de 2 documentos es pequeño, podriamos decir que ambos documentos se parecen en las palabras que usan dentro del modelo."
      ],
      "metadata": {
        "id": "mQH-Fh7UZBEl"
      }
    },
    {
      "cell_type": "markdown",
      "source": [
        "# Matriz diagonal"
      ],
      "metadata": {
        "id": "A-TjlGjsdddl"
      }
    },
    {
      "cell_type": "code",
      "source": [
        "import numpy as np\n",
        "import matplotlib.pyplot as plt\n",
        "import seaborn as sns"
      ],
      "metadata": {
        "id": "NyXXsNkDdc-W"
      },
      "execution_count": null,
      "outputs": []
    },
    {
      "cell_type": "code",
      "source": [
        "vector = np.array([1,2,3,4,5])\n",
        "\n",
        "# Creamos la matriz digaonal con la siguiente funcion\n",
        "matriz = np.diag(vector)\n",
        "matriz"
      ],
      "metadata": {
        "colab": {
          "base_uri": "https://localhost:8080/"
        },
        "id": "EPC9Tl4FYnI7",
        "outputId": "5d673e12-5480-43c2-ff6d-5125ae5a4a98"
      },
      "execution_count": null,
      "outputs": [
        {
          "output_type": "execute_result",
          "data": {
            "text/plain": [
              "array([[1, 0, 0, 0, 0],\n",
              "       [0, 2, 0, 0, 0],\n",
              "       [0, 0, 3, 0, 0],\n",
              "       [0, 0, 0, 4, 0],\n",
              "       [0, 0, 0, 0, 5]])"
            ]
          },
          "metadata": {},
          "execution_count": 72
        }
      ]
    },
    {
      "cell_type": "code",
      "source": [
        "# Generar matrices no simetricas\n",
        "matriz[1:,1:4]"
      ],
      "metadata": {
        "colab": {
          "base_uri": "https://localhost:8080/"
        },
        "id": "WEtGoGiQfpRu",
        "outputId": "ec46a3e7-93e2-4108-bc27-97701ec09abc"
      },
      "execution_count": null,
      "outputs": [
        {
          "output_type": "execute_result",
          "data": {
            "text/plain": [
              "array([[2, 0, 0],\n",
              "       [0, 3, 0],\n",
              "       [0, 0, 4],\n",
              "       [0, 0, 0]])"
            ]
          },
          "metadata": {},
          "execution_count": 81
        }
      ]
    },
    {
      "cell_type": "code",
      "source": [
        "# Matriz diagonal\n",
        "A = matriz[1:,1:]\n",
        "\n",
        "# Vector de ones\n",
        "vector_ones = np.array([1,1,1,1])\n",
        "\n",
        "# Producto punto de A con ones para conseguir un vector correspondiente a cada valor de la diagonal\n",
        "A.dot(vector_ones)"
      ],
      "metadata": {
        "colab": {
          "base_uri": "https://localhost:8080/"
        },
        "id": "-zAIctr_fxpo",
        "outputId": "6543846a-c10b-4e18-a64d-c9fc6d051c18"
      },
      "execution_count": null,
      "outputs": [
        {
          "output_type": "execute_result",
          "data": {
            "text/plain": [
              "array([2, 3, 4, 5])"
            ]
          },
          "metadata": {},
          "execution_count": 82
        }
      ]
    },
    {
      "cell_type": "code",
      "source": [
        "# Matriz inversa\n",
        "np.linalg.inv(A)"
      ],
      "metadata": {
        "colab": {
          "base_uri": "https://localhost:8080/"
        },
        "id": "68yuHLSjgun0",
        "outputId": "ff39e2f8-ff4f-4044-93fa-852138098ed8"
      },
      "execution_count": null,
      "outputs": [
        {
          "output_type": "execute_result",
          "data": {
            "text/plain": [
              "array([[0.5       , 0.        , 0.        , 0.        ],\n",
              "       [0.        , 0.33333333, 0.        , 0.        ],\n",
              "       [0.        , 0.        , 0.25      , 0.        ],\n",
              "       [0.        , 0.        , 0.        , 0.2       ]])"
            ]
          },
          "metadata": {},
          "execution_count": 83
        }
      ]
    },
    {
      "cell_type": "markdown",
      "source": [
        "## Matriz simetrica\n",
        "\n",
        "Una matriz es simetrica cuando la matriz es igual a su matriz transpuesta: $A = A^{t}$"
      ],
      "metadata": {
        "id": "g_vMv1NBg_3D"
      }
    },
    {
      "cell_type": "code",
      "source": [
        "A == A.T"
      ],
      "metadata": {
        "colab": {
          "base_uri": "https://localhost:8080/"
        },
        "id": "d99RRW5Tg8Dl",
        "outputId": "0fe229cb-8604-4127-c7e1-dfdde7c9332c"
      },
      "execution_count": null,
      "outputs": [
        {
          "output_type": "execute_result",
          "data": {
            "text/plain": [
              "array([[ True,  True,  True,  True],\n",
              "       [ True,  True,  True,  True],\n",
              "       [ True,  True,  True,  True],\n",
              "       [ True,  True,  True,  True]])"
            ]
          },
          "metadata": {},
          "execution_count": 84
        }
      ]
    },
    {
      "cell_type": "markdown",
      "source": [
        "Si la matriz es simetrica, entonces hay otra propiedad que podemos abordar:\n",
        "\n",
        "$(AB)^{t} = BA$\n",
        "\n",
        "la cual simplifica el numero de operaciones que podemos hacer."
      ],
      "metadata": {
        "id": "zclhwOYfhsxl"
      }
    },
    {
      "cell_type": "markdown",
      "source": [
        "# Vectores ortonormales\n",
        "\n",
        "Se les define vectores ortonormales a aquellos que tienen 90 grados entre si. Se puede corroborar que son vectores ortogonal cuando el producto punto es igual a 0.\n",
        "\n",
        "De igual forma, si la normal de ambos vectores es igual, podemos decir que ambos vectores son ortogonales. Si el valor normal es 1, entonces son vectores ortogonal."
      ],
      "metadata": {
        "id": "ycAHih4ojp0b"
      }
    },
    {
      "cell_type": "code",
      "source": [
        "import numpy as np\n",
        "\n",
        "matriz = np.array([[1, 0, 0], [0, 1, 0], [0, 0, 1]])"
      ],
      "metadata": {
        "id": "czzBiebdhRT-"
      },
      "execution_count": null,
      "outputs": []
    },
    {
      "cell_type": "markdown",
      "source": [
        "Corroboramos los valores resultantes del producto punto entre los vectores y sus valores normales."
      ],
      "metadata": {
        "id": "umz4PPrRxwcN"
      }
    },
    {
      "cell_type": "code",
      "source": [
        "print(f'El producto punto del v1 y del v2 es {matriz[:,0].dot(matriz[:,1])}, por lo tanto es ortogonal')\n",
        "print(f'El producto punto del v2 y del v3 es {matriz[:,1].dot(matriz[:,2])}, por lo tanto es ortogonal')\n",
        "print(f'El producto punto del v1 y del v3 es {matriz[:,0].dot(matriz[:,2])}, por lo tanto es ortogonal')"
      ],
      "metadata": {
        "colab": {
          "base_uri": "https://localhost:8080/"
        },
        "id": "soYaIXmvvJYI",
        "outputId": "b75ea4a5-1270-4575-f18c-bd6c1be7d693"
      },
      "execution_count": null,
      "outputs": [
        {
          "output_type": "stream",
          "name": "stdout",
          "text": [
            "El producto punto del v1 y del v2 es 0, por lo tanto es ortogonal\n",
            "El producto punto del v2 y del v3 es 0, por lo tanto es ortogonal\n",
            "El producto punto del v1 y del v3 es 0, por lo tanto es ortogonal\n"
          ]
        }
      ]
    },
    {
      "cell_type": "code",
      "source": [
        "print(f'El valor normal del v1 es {np.linalg.norm(matriz[:,0])}, por lo tanto son ortonormales')\n",
        "print(f'El valor normal del v2 es {np.linalg.norm(matriz[:,1])}, por lo tanto son ortonormales')\n",
        "print(f'El valor normal del v3 es {np.linalg.norm(matriz[:,2])}, por lo tanto son ortonormales')"
      ],
      "metadata": {
        "colab": {
          "base_uri": "https://localhost:8080/"
        },
        "id": "EAEMRdNfvYEY",
        "outputId": "a83ddf1c-824c-452d-dcd7-845e00278c21"
      },
      "execution_count": null,
      "outputs": [
        {
          "output_type": "stream",
          "name": "stdout",
          "text": [
            "El valor normal del v1 es 1.0, por lo tanto son ortonormales\n",
            "El valor normal del v2 es 1.0, por lo tanto son ortonormales\n",
            "El valor normal del v3 es 1.0, por lo tanto son ortonormales\n"
          ]
        }
      ]
    },
    {
      "cell_type": "markdown",
      "source": [
        "Hay que tener cuidado con los numeros que usamos, ya que al realizar producto punto entre una matriz transpuesta y una matriz normal con muchos digitos, podriamos obtenes una matriz diagonal con valores al limite de 0. El problema es que esos valores no son la matriz diagonal, entonces pueden generar valores infinitamente altos. Ejemplo: "
      ],
      "metadata": {
        "id": "Uy3V-kPRzdsq"
      }
    },
    {
      "cell_type": "code",
      "source": [
        "# Generamos una matriz con muchos decimales\n",
        "A = np.array([\n",
        "    [np.cos(100), -np.sin(100)],\n",
        "    [np.sin(100), np.cos(100)]\n",
        "])\n",
        "A"
      ],
      "metadata": {
        "colab": {
          "base_uri": "https://localhost:8080/"
        },
        "id": "G6R5U6uEw36P",
        "outputId": "f3e9f30b-9908-4e55-99f4-932a8ceb3ef7"
      },
      "execution_count": null,
      "outputs": [
        {
          "output_type": "execute_result",
          "data": {
            "text/plain": [
              "array([[ 0.86231887,  0.50636564],\n",
              "       [-0.50636564,  0.86231887]])"
            ]
          },
          "metadata": {},
          "execution_count": 100
        }
      ]
    },
    {
      "cell_type": "code",
      "source": [
        "# Generamos la matriz identidad con A.T producto punto A, con valores sumamente chicos.\n",
        "A.T.dot(A)"
      ],
      "metadata": {
        "colab": {
          "base_uri": "https://localhost:8080/"
        },
        "id": "azwOTWFPxH8q",
        "outputId": "79673b5d-30ae-4146-b0c1-2bcef32cb195"
      },
      "execution_count": null,
      "outputs": [
        {
          "output_type": "execute_result",
          "data": {
            "text/plain": [
              "array([[ 1.00000000e+00, -7.93771519e-18],\n",
              "       [-7.93771519e-18,  1.00000000e+00]])"
            ]
          },
          "metadata": {},
          "execution_count": 102
        }
      ]
    },
    {
      "cell_type": "code",
      "source": [
        "# Si hacemos operaciones con estas matrices, entonces tenemos un problema como el siguiente, donde el error se propago en los valores 0:\n",
        "1/A.T.dot(A)"
      ],
      "metadata": {
        "colab": {
          "base_uri": "https://localhost:8080/"
        },
        "id": "v4NeSGOx0QXV",
        "outputId": "b9434f59-9097-411c-f1ab-7888fbe4dce2"
      },
      "execution_count": null,
      "outputs": [
        {
          "output_type": "execute_result",
          "data": {
            "text/plain": [
              "array([[ 1.00000000e+00, -1.25980837e+17],\n",
              "       [-1.25980837e+17,  1.00000000e+00]])"
            ]
          },
          "metadata": {},
          "execution_count": 103
        }
      ]
    },
    {
      "cell_type": "markdown",
      "source": [
        "# Traza\n",
        "\n",
        "Se define como la suma de los valores que contiene la diagonal de la matriz, sin importar si es o no la solucion de la matriz. Se calcula con **`np.trace()`**, donde el argumento es la matriz que va dentro del sistema. \n",
        "\n",
        "La traza es el valor del determinante, el cual nos indica que tipo de operacion es la que se esta realizando en el espacio vectorial."
      ],
      "metadata": {
        "id": "ja_fvAilCgnU"
      }
    },
    {
      "cell_type": "code",
      "source": [
        "matriz = np.array([[1,2,3], [4,5,6], [7,8,9]])\n",
        "np.trace(matriz)"
      ],
      "metadata": {
        "colab": {
          "base_uri": "https://localhost:8080/"
        },
        "id": "EcjPN6rr2NLH",
        "outputId": "55d99c0a-1983-42d2-a5ad-c1aad9910103"
      },
      "execution_count": null,
      "outputs": [
        {
          "output_type": "execute_result",
          "data": {
            "text/plain": [
              "15"
            ]
          },
          "metadata": {},
          "execution_count": 104
        }
      ]
    },
    {
      "cell_type": "code",
      "source": [
        "import numpy as np\n",
        "import matplotlib.pyplot as plt\n",
        "import seaborn as sns\n",
        "\n",
        "# Graficacion de vectores\n",
        "def graficarVectores(vecs, cols, alpha = 1):\n",
        "  \n",
        "  # Defines la figura\n",
        "  plt.figure()\n",
        "\n",
        "  # Coloreas los ejes\n",
        "  plt.axvline(x = 0, color= 'grey', zorder = 0)\n",
        "  plt.axhline(y = 0, color= 'grey', zorder = 0)\n",
        "\n",
        "  # Iterador para cada punto del vector\n",
        "  for i in range(len(vecs)):\n",
        "\n",
        "    # Concatena los puntos de cada vector con el origen (0,0).  Esto genera un arreglo con 4 columnas\n",
        "    x = np.concatenate([[0,0], vecs[i]])\n",
        "    print(x)\n",
        "\n",
        "    # Graficar el vector. Requiere todos los puntos, el angulo, las unidades de la escala, la escala, cuantos vectores se van a colorear y el alpha\n",
        "    plt.quiver(x[0],x[1],x[2],x[3], angles = 'xy', scale_units = 'xy', \n",
        "               scale = 1, color = cols[i], alpha = alpha)\n",
        "\n",
        "# Definir las coordenadas de los vectores\n",
        "v1 = np.array([1,0])\n",
        "v2 = np.array([0,1]) \n",
        "\n",
        "graficarVectores([v1,v2], ['blue','red'])\n",
        "\n",
        "# Establecer limites\n",
        "plt.xlim(-1,1)\n",
        "plt.ylim(-1,1)"
      ],
      "metadata": {
        "colab": {
          "base_uri": "https://localhost:8080/",
          "height": 487
        },
        "id": "V5WcctfHD7sG",
        "outputId": "813b25b7-ae9d-4b9d-e43d-5bd9c1654551"
      },
      "execution_count": null,
      "outputs": [
        {
          "output_type": "stream",
          "name": "stdout",
          "text": [
            "[0 0 1 0]\n",
            "[0 0 0 1]\n"
          ]
        },
        {
          "output_type": "execute_result",
          "data": {
            "text/plain": [
              "(-1.0, 1.0)"
            ]
          },
          "metadata": {},
          "execution_count": 108
        },
        {
          "output_type": "display_data",
          "data": {
            "text/plain": [
              "<Figure size 640x480 with 1 Axes>"
            ],
            "image/png": "[encoded data removed]"
          },
          "metadata": {}
        }
      ]
    },
    {
      "cell_type": "code",
      "source": [
        "# Es una matriz con determinante mayor. Entonces amplifica el tamaño del vector \n",
        "A = np.array([[2,0],[0,2]])\n",
        "\n",
        "v1_transformado = A.dot(v1)\n",
        "v2_transformado = A.dot(v2)\n",
        "\n",
        "graficarVectores([v1_transformado,v2_transformado], ['blue','red'])\n",
        "\n",
        "# Establecer limites\n",
        "plt.xlim(-2,2)\n",
        "plt.ylim(-2,2)"
      ],
      "metadata": {
        "colab": {
          "base_uri": "https://localhost:8080/",
          "height": 487
        },
        "id": "fHZjInndFEy-",
        "outputId": "96e15809-60c2-45d9-a242-c9379e193923"
      },
      "execution_count": null,
      "outputs": [
        {
          "output_type": "stream",
          "name": "stdout",
          "text": [
            "[0 0 2 0]\n",
            "[0 0 0 2]\n"
          ]
        },
        {
          "output_type": "execute_result",
          "data": {
            "text/plain": [
              "(-2.0, 2.0)"
            ]
          },
          "metadata": {},
          "execution_count": 111
        },
        {
          "output_type": "display_data",
          "data": {
            "text/plain": [
              "<Figure size 640x480 with 1 Axes>"
            ],
            "image/png": "[encoded data removed]"
          },
          "metadata": {}
        }
      ]
    },
    {
      "cell_type": "code",
      "source": [
        "# Tambien se puede obtener el determinante a traves de la siguiente funcion:\n",
        "det_A = np.linalg.det(A)\n",
        "det_A"
      ],
      "metadata": {
        "colab": {
          "base_uri": "https://localhost:8080/"
        },
        "id": "4MtNyz7oGvga",
        "outputId": "9a484986-abd4-47b4-de47-0bd2740a868b"
      },
      "execution_count": null,
      "outputs": [
        {
          "output_type": "execute_result",
          "data": {
            "text/plain": [
              "4.0"
            ]
          },
          "metadata": {},
          "execution_count": 112
        }
      ]
    },
    {
      "cell_type": "code",
      "source": [
        "# Si hacemos lo mismo con una matriz negativa, el espacio va a rotar\n",
        "B = np.array([[2,0],[0,2]]) * -1\n",
        "\n",
        "v1_transformado = B.dot(v1)\n",
        "v2_transformado = B.dot(v2)\n",
        "\n",
        "graficarVectores([v1_transformado,v2_transformado], ['blue','red'])\n",
        "\n",
        "# Establecer limites\n",
        "plt.xlim(-2,2)\n",
        "plt.ylim(-2,2)\n",
        "\n",
        "# Muestra el terminante\n",
        "print(np.linalg.det(B))"
      ],
      "metadata": {
        "colab": {
          "base_uri": "https://localhost:8080/",
          "height": 487
        },
        "id": "d0Xt1SVeHcvh",
        "outputId": "3b96e75e-da2a-4839-daeb-56e4f0cbaaa2"
      },
      "execution_count": null,
      "outputs": [
        {
          "output_type": "stream",
          "name": "stdout",
          "text": [
            "[ 0  0 -2  0]\n",
            "[ 0  0  0 -2]\n",
            "4.0\n"
          ]
        },
        {
          "output_type": "display_data",
          "data": {
            "text/plain": [
              "<Figure size 640x480 with 1 Axes>"
            ],
            "image/png": "[encoded data removed]"
          },
          "metadata": {}
        }
      ]
    },
    {
      "cell_type": "code",
      "source": [
        "A = np.array([[7, -1], [3,-1]])\n",
        "b = np.array([[-2,-5]]).T \n",
        "np.linalg.inv(A).dot(b)"
      ],
      "metadata": {
        "colab": {
          "base_uri": "https://localhost:8080/"
        },
        "id": "FPJAIzxmIID0",
        "outputId": "b84e2c57-e84c-404e-cbaf-94bf69e26ce1"
      },
      "execution_count": null,
      "outputs": [
        {
          "output_type": "execute_result",
          "data": {
            "text/plain": [
              "array([[0.75],\n",
              "       [7.25]])"
            ]
          },
          "metadata": {},
          "execution_count": 118
        }
      ]
    },
    {
      "cell_type": "code",
      "source": [
        "np.array([[1, 2, 3, 4], [5, 6, 7, 8], [9,10, 11,12]] ).T"
      ],
      "metadata": {
        "colab": {
          "base_uri": "https://localhost:8080/"
        },
        "id": "BvmXqp5DQySD",
        "outputId": "629a6619-f900-4550-8e3d-52d809a1b388"
      },
      "execution_count": null,
      "outputs": [
        {
          "output_type": "execute_result",
          "data": {
            "text/plain": [
              "array([[ 1,  5,  9],\n",
              "       [ 2,  6, 10],\n",
              "       [ 3,  7, 11],\n",
              "       [ 4,  8, 12]])"
            ]
          },
          "metadata": {},
          "execution_count": 123
        }
      ]
    },
    {
      "cell_type": "code",
      "source": [
        "x = np.array([0.5,0.5,0.5,0.5])\n",
        "np.linalg.norm(x, ord=2)"
      ],
      "metadata": {
        "colab": {
          "base_uri": "https://localhost:8080/"
        },
        "id": "7fF3GGd6RoO_",
        "outputId": "03467b35-e7e7-43cd-b9c5-f010c14255a4"
      },
      "execution_count": null,
      "outputs": [
        {
          "output_type": "execute_result",
          "data": {
            "text/plain": [
              "1.0"
            ]
          },
          "metadata": {},
          "execution_count": 127
        }
      ]
    },
    {
      "cell_type": "code",
      "source": [
        "tensor = np.array([[\n",
        "    [[1,2,3],[4,5,6],[7,8,9]],\n",
        "    [[11,12,13],[14,15,16],[17,18,19]],\n",
        "    [[21,22,23],[24,25,26],[27,28,29]]\n",
        "                   ]])\n",
        "\n",
        "tensor.itemsize"
      ],
      "metadata": {
        "colab": {
          "base_uri": "https://localhost:8080/"
        },
        "id": "IsUceov7Tl3R",
        "outputId": "2291789a-05b2-4c5f-d6a9-28e7f808d803"
      },
      "execution_count": null,
      "outputs": [
        {
          "output_type": "execute_result",
          "data": {
            "text/plain": [
              "8"
            ]
          },
          "metadata": {},
          "execution_count": 131
        }
      ]
    },
    {
      "cell_type": "code",
      "source": [
        "x = np.array([[1,3],[5,6]])\n",
        "x + np.array([[3],[3]])"
      ],
      "metadata": {
        "colab": {
          "base_uri": "https://localhost:8080/"
        },
        "id": "ZlXme6SFUNWB",
        "outputId": "e5189fe5-9525-41a8-a781-e52eb53afbe7"
      },
      "execution_count": null,
      "outputs": [
        {
          "output_type": "execute_result",
          "data": {
            "text/plain": [
              "array([[4, 6],\n",
              "       [8, 9]])"
            ]
          },
          "metadata": {},
          "execution_count": 135
        }
      ]
    },
    {
      "cell_type": "code",
      "source": [
        "np.linalg.inv(A)"
      ],
      "metadata": {
        "id": "c5kU5clyUhVp"
      },
      "execution_count": null,
      "outputs": []
    },
    {
      "cell_type": "code",
      "source": [
        "x = np.array([1,2,3,4,5])\n",
        "diag = np.diag(x)\n",
        "\n",
        "np.linalg.det(np.linalg.inv(diag))"
      ],
      "metadata": {
        "colab": {
          "base_uri": "https://localhost:8080/"
        },
        "id": "waHu16fPU4rm",
        "outputId": "821b1985-9975-4836-a4b5-bb4412f9a601"
      },
      "execution_count": null,
      "outputs": [
        {
          "output_type": "execute_result",
          "data": {
            "text/plain": [
              "0.008333333333333335"
            ]
          },
          "metadata": {},
          "execution_count": 140
        }
      ]
    },
    {
      "cell_type": "code",
      "source": [
        "np.linalg.det(diag)"
      ],
      "metadata": {
        "colab": {
          "base_uri": "https://localhost:8080/"
        },
        "id": "bVWhlQcfVA6I",
        "outputId": "c698259c-d5c7-420a-bd97-ee49b10cbcb2"
      },
      "execution_count": null,
      "outputs": [
        {
          "output_type": "execute_result",
          "data": {
            "text/plain": [
              "119.99999999999997"
            ]
          },
          "metadata": {},
          "execution_count": 142
        }
      ]
    },
    {
      "cell_type": "code",
      "source": [
        "v1 = np.array([1,0])\n",
        "v2 = np.array([0,1])\n",
        "\n",
        "np.linalg.norm(v2)"
      ],
      "metadata": {
        "colab": {
          "base_uri": "https://localhost:8080/"
        },
        "id": "3fa5F4m6VS8k",
        "outputId": "6a83deed-4a67-4e97-a2ae-0bed19b4d140"
      },
      "execution_count": null,
      "outputs": [
        {
          "output_type": "execute_result",
          "data": {
            "text/plain": [
              "1.0"
            ]
          },
          "metadata": {},
          "execution_count": 144
        }
      ]
    },
    {
      "cell_type": "code",
      "source": [
        "v1 = np.array([[1,0], [0,1], [1,1]])\n",
        "v2 = np.array([5,5])\n",
        "\n",
        "v2.T.dot(v1)"
      ],
      "metadata": {
        "colab": {
          "base_uri": "https://localhost:8080/",
          "height": 200
        },
        "id": "MGCLKtTBW4gE",
        "outputId": "7470d19c-c3f5-46b8-f4c7-329af27279b8"
      },
      "execution_count": null,
      "outputs": [
        {
          "output_type": "error",
          "ename": "ValueError",
          "evalue": "ignored",
          "traceback": [
            "\u001b[0;31m---------------------------------------------------------------------------\u001b[0m",
            "\u001b[0;31mValueError\u001b[0m                                Traceback (most recent call last)",
            "\u001b[0;32m<ipython-input-150-46fe36812118>\u001b[0m in \u001b[0;36m<cell line: 4>\u001b[0;34m()\u001b[0m\n\u001b[1;32m      2\u001b[0m \u001b[0mv2\u001b[0m \u001b[0;34m=\u001b[0m \u001b[0mnp\u001b[0m\u001b[0;34m.\u001b[0m\u001b[0marray\u001b[0m\u001b[0;34m(\u001b[0m\u001b[0;34m[\u001b[0m\u001b[0;36m5\u001b[0m\u001b[0;34m,\u001b[0m\u001b[0;36m5\u001b[0m\u001b[0;34m]\u001b[0m\u001b[0;34m)\u001b[0m\u001b[0;34m\u001b[0m\u001b[0;34m\u001b[0m\u001b[0m\n\u001b[1;32m      3\u001b[0m \u001b[0;34m\u001b[0m\u001b[0m\n\u001b[0;32m----> 4\u001b[0;31m \u001b[0mv2\u001b[0m\u001b[0;34m.\u001b[0m\u001b[0mT\u001b[0m\u001b[0;34m.\u001b[0m\u001b[0mdot\u001b[0m\u001b[0;34m(\u001b[0m\u001b[0mv1\u001b[0m\u001b[0;34m)\u001b[0m\u001b[0;34m\u001b[0m\u001b[0;34m\u001b[0m\u001b[0m\n\u001b[0m",
            "\u001b[0;31mValueError\u001b[0m: shapes (2,) and (3,2) not aligned: 2 (dim 0) != 3 (dim 0)"
          ]
        }
      ]
    },
    {
      "cell_type": "code",
      "source": [
        "matriz = np.array([[7, -7, 3], [1, 1, 0], [0, 0, 1]])\n",
        "\n",
        "print(f'El producto punto del v1 y del v2 es {matriz[:,0].T.dot(matriz[:,1].T)}, por lo tanto es ortogonal')\n",
        "print(f'El producto punto del v2 y del v3 es {matriz[:,1].dot(matriz[:,2])}, por lo tanto es ortogonal')\n",
        "print(f'El producto punto del v1 y del v3 es {matriz[:,0].dot(matriz[:,2])}, por lo tanto es ortogonal')"
      ],
      "metadata": {
        "colab": {
          "base_uri": "https://localhost:8080/"
        },
        "id": "wnWnbyFgXepA",
        "outputId": "d47a1a7c-76f6-4809-993d-8c4073a60495"
      },
      "execution_count": null,
      "outputs": [
        {
          "output_type": "stream",
          "name": "stdout",
          "text": [
            "El producto punto del v1 y del v2 es -48, por lo tanto es ortogonal\n",
            "El producto punto del v2 y del v3 es -21, por lo tanto es ortogonal\n",
            "El producto punto del v1 y del v3 es 21, por lo tanto es ortogonal\n"
          ]
        }
      ]
    },
    {
      "cell_type": "code",
      "source": [
        "print(f'El valor normal del v1 es {np.linalg.norm(matriz[:,0])}, por lo tanto son ortonormales')\n",
        "print(f'El valor normal del v2 es {np.linalg.norm(matriz[:,1])}, por lo tanto son ortonormales')\n",
        "print(f'El valor normal del v3 es {np.linalg.norm(matriz[:,2])}, por lo tanto son ortonormales')"
      ],
      "metadata": {
        "colab": {
          "base_uri": "https://localhost:8080/"
        },
        "id": "iLFR0bPhZWCV",
        "outputId": "852d09d3-deb5-49a4-c36e-51bb8109483b"
      },
      "execution_count": null,
      "outputs": [
        {
          "output_type": "stream",
          "name": "stdout",
          "text": [
            "El valor normal del v1 es 7.0710678118654755, por lo tanto son ortonormales\n",
            "El valor normal del v2 es 7.0710678118654755, por lo tanto son ortonormales\n",
            "El valor normal del v3 es 3.1622776601683795, por lo tanto son ortonormales\n"
          ]
        }
      ]
    },
    {
      "cell_type": "code",
      "source": [
        "np.linalg.norm(np.array([-50,-25,0,25,100,-300]), ord=0)"
      ],
      "metadata": {
        "colab": {
          "base_uri": "https://localhost:8080/"
        },
        "id": "YNbb0zyTZene",
        "outputId": "d484aa75-d679-4c07-9e6a-0bdb8548df9e"
      },
      "execution_count": null,
      "outputs": [
        {
          "output_type": "execute_result",
          "data": {
            "text/plain": [
              "5.0"
            ]
          },
          "metadata": {},
          "execution_count": 154
        }
      ]
    },
    {
      "cell_type": "code",
      "source": [],
      "metadata": {
        "id": "hSjjAYbsaa1N"
      },
      "execution_count": null,
      "outputs": []
    }
  ]
}